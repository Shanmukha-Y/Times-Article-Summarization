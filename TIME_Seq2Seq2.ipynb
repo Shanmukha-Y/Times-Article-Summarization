{
  "nbformat": 4,
  "nbformat_minor": 0,
  "metadata": {
    "accelerator": "GPU",
    "colab": {
      "name": "TIME_Seq2Seq2.ipynb",
      "provenance": [],
      "collapsed_sections": [
        "IU9ZbhuB6mmJ"
      ]
    },
    "kernelspec": {
      "display_name": "Python 3",
      "language": "python",
      "name": "python3"
    },
    "language_info": {
      "codemirror_mode": {
        "name": "ipython",
        "version": 3
      },
      "file_extension": ".py",
      "mimetype": "text/x-python",
      "name": "python",
      "nbconvert_exporter": "python",
      "pygments_lexer": "ipython3",
      "version": "3.6.6"
    }
  },
  "cells": [
    {
      "cell_type": "markdown",
      "metadata": {
        "colab_type": "text",
        "id": "MaILF2Y66mjv"
      },
      "source": [
        "# Summarizing Text with TIMES Articles\n"
      ]
    },
    {
      "cell_type": "code",
      "metadata": {
        "id": "EyBFzwX20MMw",
        "colab_type": "code",
        "colab": {
          "base_uri": "https://localhost:8080/",
          "height": 101
        },
        "outputId": "e3a4c61b-a34a-45bf-c14d-d4e08eafbc89"
      },
      "source": [
        "%tensorflow_version 1.10.1"
      ],
      "execution_count": null,
      "outputs": [
        {
          "output_type": "stream",
          "text": [
            "`%tensorflow_version` only switches the major version: 1.x or 2.x.\n",
            "You set: `1.10.1`. This will be interpreted as: `1.x`.\n",
            "\n",
            "\n",
            "TensorFlow 1.x selected.\n"
          ],
          "name": "stdout"
        }
      ]
    },
    {
      "cell_type": "code",
      "metadata": {
        "colab_type": "code",
        "id": "Tw0keeCK6mjy",
        "colab": {
          "base_uri": "https://localhost:8080/",
          "height": 34
        },
        "outputId": "4494cfb3-7cf8-478d-d1af-9737a30a1abb"
      },
      "source": [
        "import pandas as pd\n",
        "import numpy as np\n",
        "import tensorflow as tf\n",
        "import re\n",
        "from nltk.corpus import stopwords\n",
        "import time\n",
        "from tensorflow.python.layers.core import Dense\n",
        "from tensorflow.python.ops.rnn_cell_impl import _zero_state_tensors\n",
        "print('TensorFlow Version: {}'.format(tf.__version__))"
      ],
      "execution_count": null,
      "outputs": [
        {
          "output_type": "stream",
          "text": [
            "TensorFlow Version: 1.15.2\n"
          ],
          "name": "stdout"
        }
      ]
    },
    {
      "cell_type": "code",
      "metadata": {
        "colab_type": "code",
        "id": "V-9OEfMioyUa",
        "colab": {
          "base_uri": "https://localhost:8080/",
          "height": 34
        },
        "outputId": "b463d01b-7f7e-4ec7-b4bb-4804f5dfb0ba"
      },
      "source": [
        "device_name = tf.test.gpu_device_name()\n",
        "if device_name != '/device:GPU:0':\n",
        "  raise SystemError('GPU device not found')\n",
        "print('Found GPU at: {}'.format(device_name))"
      ],
      "execution_count": null,
      "outputs": [
        {
          "output_type": "stream",
          "text": [
            "Found GPU at: /device:GPU:0\n"
          ],
          "name": "stdout"
        }
      ]
    },
    {
      "cell_type": "markdown",
      "metadata": {
        "colab_type": "text",
        "id": "H0o8PPgD63ZP"
      },
      "source": [
        "### Google Connect"
      ]
    },
    {
      "cell_type": "code",
      "metadata": {
        "colab_type": "code",
        "id": "frzAZi2D67tn",
        "colab": {
          "base_uri": "https://localhost:8080/",
          "height": 34
        },
        "outputId": "c63eaff3-cd2b-4da0-ff67-78a7d5f6dd63"
      },
      "source": [
        "from google.colab import drive\n",
        "import os\n",
        "drive.mount('/content/drive', force_remount=True)\n",
        "#import pandas as pd\n",
        "df = pd.read_csv('/content/drive/My Drive/p2_train.csv',nrows=100000)"
      ],
      "execution_count": null,
      "outputs": [
        {
          "output_type": "stream",
          "text": [
            "Mounted at /content/drive\n"
          ],
          "name": "stdout"
        }
      ]
    },
    {
      "cell_type": "markdown",
      "metadata": {
        "colab_type": "text",
        "id": "c7s5j-U46mj5"
      },
      "source": [
        "## Insepcting the Data"
      ]
    },
    {
      "cell_type": "code",
      "metadata": {
        "colab_type": "code",
        "id": "pv2B397Z6mj8",
        "colab": {
          "base_uri": "https://localhost:8080/",
          "height": 34
        },
        "outputId": "f26feb5b-955b-46e9-c53e-fe652e88abfb"
      },
      "source": [
        "df.shape"
      ],
      "execution_count": null,
      "outputs": [
        {
          "output_type": "execute_result",
          "data": {
            "text/plain": [
              "(100000, 7)"
            ]
          },
          "metadata": {
            "tags": []
          },
          "execution_count": 5
        }
      ]
    },
    {
      "cell_type": "code",
      "metadata": {
        "colab_type": "code",
        "id": "8rmt7bTH6mkA",
        "colab": {
          "base_uri": "https://localhost:8080/",
          "height": 195
        },
        "outputId": "abcaf70b-ec23-405d-a4c9-c0c797507ff6"
      },
      "source": [
        "df.head()"
      ],
      "execution_count": null,
      "outputs": [
        {
          "output_type": "execute_result",
          "data": {
            "text/html": [
              "<div>\n",
              "<style scoped>\n",
              "    .dataframe tbody tr th:only-of-type {\n",
              "        vertical-align: middle;\n",
              "    }\n",
              "\n",
              "    .dataframe tbody tr th {\n",
              "        vertical-align: top;\n",
              "    }\n",
              "\n",
              "    .dataframe thead th {\n",
              "        text-align: right;\n",
              "    }\n",
              "</style>\n",
              "<table border=\"1\" class=\"dataframe\">\n",
              "  <thead>\n",
              "    <tr style=\"text-align: right;\">\n",
              "      <th></th>\n",
              "      <th>msid</th>\n",
              "      <th>articlebody</th>\n",
              "      <th>synopsis</th>\n",
              "      <th>l0_section</th>\n",
              "      <th>l1_section</th>\n",
              "      <th>l2_section</th>\n",
              "      <th>l3_section</th>\n",
              "    </tr>\n",
              "  </thead>\n",
              "  <tbody>\n",
              "    <tr>\n",
              "      <th>0</th>\n",
              "      <td>6593049</td>\n",
              "      <td>&lt;div class=\"section0\"&gt;&lt;div class=\"Normal\" styl...</td>\n",
              "      <td>Extending its gain for the second consecutive ...</td>\n",
              "      <td>ET-HFI</td>\n",
              "      <td>Markets</td>\n",
              "      <td>Stocks</td>\n",
              "      <td>News</td>\n",
              "    </tr>\n",
              "    <tr>\n",
              "      <th>1</th>\n",
              "      <td>1746535</td>\n",
              "      <td>&lt;div class=\"section1\"&gt;&lt;div class=\"Normal\"&gt;The ...</td>\n",
              "      <td>The nation witnessed  yet another hit from Nax...</td>\n",
              "      <td>ET-HFI</td>\n",
              "      <td>Magazines</td>\n",
              "      <td>Sunday ET</td>\n",
              "      <td>NaN</td>\n",
              "    </tr>\n",
              "    <tr>\n",
              "      <th>2</th>\n",
              "      <td>11472836</td>\n",
              "      <td>&lt;div class=\"section1\"&gt;&lt;div class=\"Normal\" styl...</td>\n",
              "      <td>Jim Rogers, Chairman, Rogers Holdings, is shor...</td>\n",
              "      <td>ET-HFI</td>\n",
              "      <td>Opinion</td>\n",
              "      <td>Interviews</td>\n",
              "      <td>NaN</td>\n",
              "    </tr>\n",
              "    <tr>\n",
              "      <th>3</th>\n",
              "      <td>51626869</td>\n",
              "      <td>NEW YORK: There has always been a great parado...</td>\n",
              "      <td>He believes the CCP is losing ground on the in...</td>\n",
              "      <td>ET-HFI</td>\n",
              "      <td>Tech</td>\n",
              "      <td>Internet</td>\n",
              "      <td>NaN</td>\n",
              "    </tr>\n",
              "    <tr>\n",
              "      <th>4</th>\n",
              "      <td>8838904</td>\n",
              "      <td>&lt;div class=\"section1\"&gt;&lt;div class=\"Normal\" styl...</td>\n",
              "      <td>The CAG has rapped oil ministry and its techni...</td>\n",
              "      <td>ET-HFI</td>\n",
              "      <td>Industry</td>\n",
              "      <td>Energy</td>\n",
              "      <td>Oil &amp; Gas</td>\n",
              "    </tr>\n",
              "  </tbody>\n",
              "</table>\n",
              "</div>"
            ],
            "text/plain": [
              "       msid  ... l3_section\n",
              "0   6593049  ...       News\n",
              "1   1746535  ...        NaN\n",
              "2  11472836  ...        NaN\n",
              "3  51626869  ...        NaN\n",
              "4   8838904  ...  Oil & Gas\n",
              "\n",
              "[5 rows x 7 columns]"
            ]
          },
          "metadata": {
            "tags": []
          },
          "execution_count": 6
        }
      ]
    },
    {
      "cell_type": "code",
      "metadata": {
        "colab_type": "code",
        "id": "NbtLoD046mkD",
        "colab": {
          "base_uri": "https://localhost:8080/",
          "height": 151
        },
        "outputId": "8072c1d2-05ab-430d-e3f3-ae5b3a36ef4b"
      },
      "source": [
        "# Check for any nulls values\n",
        "df.isnull().sum()"
      ],
      "execution_count": null,
      "outputs": [
        {
          "output_type": "execute_result",
          "data": {
            "text/plain": [
              "msid               0\n",
              "articlebody        0\n",
              "synopsis           0\n",
              "l0_section         0\n",
              "l1_section         0\n",
              "l2_section      3439\n",
              "l3_section     55073\n",
              "dtype: int64"
            ]
          },
          "metadata": {
            "tags": []
          },
          "execution_count": 7
        }
      ]
    },
    {
      "cell_type": "code",
      "metadata": {
        "id": "ueZ5W-A7Ua_i",
        "colab_type": "code",
        "colab": {}
      },
      "source": [
        "df = df[df['l3_section']=='News']"
      ],
      "execution_count": null,
      "outputs": []
    },
    {
      "cell_type": "code",
      "metadata": {
        "colab_type": "code",
        "id": "m55yoyyc6mkG",
        "colab": {}
      },
      "source": [
        "# Remove null values and unneeded features\n",
        "df = df.drop(['l0_section','l1_section','l2_section','l3_section','msid'], 1)\n",
        "df = df.reset_index(drop=True)"
      ],
      "execution_count": null,
      "outputs": []
    },
    {
      "cell_type": "code",
      "metadata": {
        "colab_type": "code",
        "id": "p8tL54i16mkJ",
        "colab": {
          "base_uri": "https://localhost:8080/",
          "height": 195
        },
        "outputId": "f0211168-64e6-441f-8431-5f3b1a5552c7"
      },
      "source": [
        "df.head()"
      ],
      "execution_count": null,
      "outputs": [
        {
          "output_type": "execute_result",
          "data": {
            "text/html": [
              "<div>\n",
              "<style scoped>\n",
              "    .dataframe tbody tr th:only-of-type {\n",
              "        vertical-align: middle;\n",
              "    }\n",
              "\n",
              "    .dataframe tbody tr th {\n",
              "        vertical-align: top;\n",
              "    }\n",
              "\n",
              "    .dataframe thead th {\n",
              "        text-align: right;\n",
              "    }\n",
              "</style>\n",
              "<table border=\"1\" class=\"dataframe\">\n",
              "  <thead>\n",
              "    <tr style=\"text-align: right;\">\n",
              "      <th></th>\n",
              "      <th>articlebody</th>\n",
              "      <th>synopsis</th>\n",
              "    </tr>\n",
              "  </thead>\n",
              "  <tbody>\n",
              "    <tr>\n",
              "      <th>0</th>\n",
              "      <td>&lt;div class=\"section0\"&gt;&lt;div class=\"Normal\" styl...</td>\n",
              "      <td>Extending its gain for the second consecutive ...</td>\n",
              "    </tr>\n",
              "    <tr>\n",
              "      <th>1</th>\n",
              "      <td>Indian equity market may deliver better return...</td>\n",
              "      <td>Morgan Stanley says macros are driving stocks ...</td>\n",
              "    </tr>\n",
              "    <tr>\n",
              "      <th>2</th>\n",
              "      <td>NEW DELHI: The S&amp;P BSE Consumer Durables index...</td>\n",
              "      <td>The S&amp;P BSE Consumer Durables index was tradin...</td>\n",
              "    </tr>\n",
              "    <tr>\n",
              "      <th>3</th>\n",
              "      <td>SYDNEY: Caution gripped Asian share markets on...</td>\n",
              "      <td>MSCI's broadest index of Asia-Pacific shares o...</td>\n",
              "    </tr>\n",
              "    <tr>\n",
              "      <th>4</th>\n",
              "      <td>\\n\\t&lt;span&gt;MUMBAI: Brokerages have turned beari...</td>\n",
              "      <td>Morgan Stanley is of the view that in the back...</td>\n",
              "    </tr>\n",
              "  </tbody>\n",
              "</table>\n",
              "</div>"
            ],
            "text/plain": [
              "                                         articlebody                                           synopsis\n",
              "0  <div class=\"section0\"><div class=\"Normal\" styl...  Extending its gain for the second consecutive ...\n",
              "1  Indian equity market may deliver better return...  Morgan Stanley says macros are driving stocks ...\n",
              "2  NEW DELHI: The S&P BSE Consumer Durables index...  The S&P BSE Consumer Durables index was tradin...\n",
              "3  SYDNEY: Caution gripped Asian share markets on...  MSCI's broadest index of Asia-Pacific shares o...\n",
              "4  \\n\\t<span>MUMBAI: Brokerages have turned beari...  Morgan Stanley is of the view that in the back..."
            ]
          },
          "metadata": {
            "tags": []
          },
          "execution_count": 10
        }
      ]
    },
    {
      "cell_type": "code",
      "metadata": {
        "id": "0XmuteUKUpte",
        "colab_type": "code",
        "colab": {
          "base_uri": "https://localhost:8080/",
          "height": 34
        },
        "outputId": "fa911ae3-60f6-427d-c1b1-35e51e1bfd58"
      },
      "source": [
        "len(df)"
      ],
      "execution_count": null,
      "outputs": [
        {
          "output_type": "execute_result",
          "data": {
            "text/plain": [
              "7622"
            ]
          },
          "metadata": {
            "tags": []
          },
          "execution_count": 11
        }
      ]
    },
    {
      "cell_type": "markdown",
      "metadata": {
        "colab_type": "text",
        "id": "_4iCevEI6mkP"
      },
      "source": [
        "## Preparing the Data"
      ]
    },
    {
      "cell_type": "code",
      "metadata": {
        "colab_type": "code",
        "id": "Bgki8Rny6mkP",
        "colab": {}
      },
      "source": [
        "# A list of contractions from http://stackoverflow.com/questions/19790188/expanding-english-language-contractions-in-python\n",
        "contractions = { \n",
        "\"ain't\": \"am not\",\n",
        "\"aren't\": \"are not\",\n",
        "\"can't\": \"cannot\",\n",
        "\"can't've\": \"cannot have\",\n",
        "\"'cause\": \"because\",\n",
        "\"could've\": \"could have\",\n",
        "\"couldn't\": \"could not\",\n",
        "\"couldn't've\": \"could not have\",\n",
        "\"didn't\": \"did not\",\n",
        "\"doesn't\": \"does not\",\n",
        "\"don't\": \"do not\",\n",
        "\"hadn't\": \"had not\",\n",
        "\"hadn't've\": \"had not have\",\n",
        "\"hasn't\": \"has not\",\n",
        "\"haven't\": \"have not\",\n",
        "\"he'd\": \"he would\",\n",
        "\"he'd've\": \"he would have\",\n",
        "\"he'll\": \"he will\",\n",
        "\"he's\": \"he is\",\n",
        "\"how'd\": \"how did\",\n",
        "\"how'll\": \"how will\",\n",
        "\"how's\": \"how is\",\n",
        "\"i'd\": \"i would\",\n",
        "\"i'll\": \"i will\",\n",
        "\"i'm\": \"i am\",\n",
        "\"i've\": \"i have\",\n",
        "\"isn't\": \"is not\",\n",
        "\"it'd\": \"it would\",\n",
        "\"it'll\": \"it will\",\n",
        "\"it's\": \"it is\",\n",
        "\"let's\": \"let us\",\n",
        "\"ma'am\": \"madam\",\n",
        "\"mayn't\": \"may not\",\n",
        "\"might've\": \"might have\",\n",
        "\"mightn't\": \"might not\",\n",
        "\"must've\": \"must have\",\n",
        "\"mustn't\": \"must not\",\n",
        "\"needn't\": \"need not\",\n",
        "\"oughtn't\": \"ought not\",\n",
        "\"shan't\": \"shall not\",\n",
        "\"sha'n't\": \"shall not\",\n",
        "\"she'd\": \"she would\",\n",
        "\"she'll\": \"she will\",\n",
        "\"she's\": \"she is\",\n",
        "\"should've\": \"should have\",\n",
        "\"shouldn't\": \"should not\",\n",
        "\"that'd\": \"that would\",\n",
        "\"that's\": \"that is\",\n",
        "\"there'd\": \"there had\",\n",
        "\"there's\": \"there is\",\n",
        "\"they'd\": \"they would\",\n",
        "\"they'll\": \"they will\",\n",
        "\"they're\": \"they are\",\n",
        "\"they've\": \"they have\",\n",
        "\"wasn't\": \"was not\",\n",
        "\"we'd\": \"we would\",\n",
        "\"we'll\": \"we will\",\n",
        "\"we're\": \"we are\",\n",
        "\"we've\": \"we have\",\n",
        "\"weren't\": \"were not\",\n",
        "\"what'll\": \"what will\",\n",
        "\"what're\": \"what are\",\n",
        "\"what's\": \"what is\",\n",
        "\"what've\": \"what have\",\n",
        "\"where'd\": \"where did\",\n",
        "\"where's\": \"where is\",\n",
        "\"who'll\": \"who will\",\n",
        "\"who's\": \"who is\",\n",
        "\"won't\": \"will not\",\n",
        "\"wouldn't\": \"would not\",\n",
        "\"you'd\": \"you would\",\n",
        "\"you'll\": \"you will\",\n",
        "\"you're\": \"you are\"\n",
        "}"
      ],
      "execution_count": null,
      "outputs": []
    },
    {
      "cell_type": "code",
      "metadata": {
        "colab_type": "code",
        "id": "kXEYjxGE6mkT",
        "colab": {}
      },
      "source": [
        "def clean_text(text, remove_stopwords = True):\n",
        "    '''Remove unwanted characters, stopwords, and format the text to create fewer nulls word embeddings'''\n",
        "    \n",
        "    # Convert words to lower case\n",
        "    text = text.lower()\n",
        "    \n",
        "    # Replace contractions with their longer forms \n",
        "    if True:\n",
        "        text = text.split()\n",
        "        new_text = []\n",
        "        for word in text:\n",
        "            if word in contractions:\n",
        "                new_text.append(contractions[word])\n",
        "            else:\n",
        "                new_text.append(word)\n",
        "        text = \" \".join(new_text)\n",
        "    \n",
        "    # Format words and remove unwanted characters\n",
        "    text = re.sub(r'https?:\\/\\/.*[\\r\\n]*', '', text, flags=re.MULTILINE)\n",
        "    text = re.sub(r'\\<a href', ' ', text)\n",
        "    text = re.sub(r'&amp;', '', text) \n",
        "    text = re.sub(r'[_\"\\-;%()|+&=*%.,!?:#$@\\[\\]/]', ' ', text)\n",
        "    text = re.sub(r'<br />', ' ', text)\n",
        "    text = re.sub(r'\\'', ' ', text)\n",
        "    \n",
        "    # Optionally, remove stop words\n",
        "    if remove_stopwords:\n",
        "        text = text.split()\n",
        "        stops = set(stopwords.words(\"english\"))\n",
        "        text = [w for w in text if not w in stops]\n",
        "        text = \" \".join(text)\n",
        "\n",
        "    return text"
      ],
      "execution_count": null,
      "outputs": []
    },
    {
      "cell_type": "markdown",
      "metadata": {
        "colab_type": "text",
        "id": "FbYOStM-6mkV"
      },
      "source": [
        "We will remove the stopwords from the texts because they do not provide much use for training our model. However, we will keep them for our summaries so that they sound more like natural phrases. "
      ]
    },
    {
      "cell_type": "code",
      "metadata": {
        "colab_type": "code",
        "id": "da1ofCGn6mkW",
        "colab": {
          "base_uri": "https://localhost:8080/",
          "height": 84
        },
        "outputId": "b41d4989-825a-43ca-eef7-34d870855053"
      },
      "source": [
        "import nltk\n",
        "nltk.download('stopwords')\n",
        "from bleach import clean\n",
        "\n",
        "# Clean the summaries and texts\n",
        "clean_summaries = []\n",
        "for summary in df.synopsis:\n",
        "    clean_summaries.append(clean_text(summary, remove_stopwords=False))\n",
        "print(\"Summaries are complete.\")\n",
        "\n",
        "clean_texts = []\n",
        "for text in df.articlebody:\n",
        "    text = clean(text, strip=True, strip_comments=True)\n",
        "    clean_texts.append(clean_text(text, remove_stopwords=False))\n",
        "print(\"Texts are complete.\")"
      ],
      "execution_count": null,
      "outputs": [
        {
          "output_type": "stream",
          "text": [
            "[nltk_data] Downloading package stopwords to /root/nltk_data...\n",
            "[nltk_data]   Package stopwords is already up-to-date!\n",
            "Summaries are complete.\n",
            "Texts are complete.\n"
          ],
          "name": "stdout"
        }
      ]
    },
    {
      "cell_type": "code",
      "metadata": {
        "colab_type": "code",
        "id": "Qq7WN7ru6mka",
        "colab": {
          "base_uri": "https://localhost:8080/",
          "height": 104
        },
        "outputId": "9a7fbfa4-7398-4f26-e93c-6b4f9afd8970"
      },
      "source": [
        "# Inspect the cleaned summaries and texts to ensure they have been cleaned well\n",
        "for i in range(1):\n",
        "    print(\"Clean Review #\",i+1)\n",
        "    print(clean_summaries[i])\n",
        "    print(clean_texts[i])\n",
        "    print()"
      ],
      "execution_count": null,
      "outputs": [
        {
          "output_type": "stream",
          "text": [
            "Clean Review # 1\n",
            "extending its gain for the second consecutive trading session  shares of anil ambani led reliance communications on monday surged over 5  on bse to become the top gainer of the day \n",
            "mumbai  extending its gain for the second consecutive trading session  shares of anil ambani led reliance communications  rcom  on monday surged over 5 per cent on the bse to become the top gainer of the day after a strong opening on the bombay stock exchange  the telecom giant continued its rally and zoomed 5 14 per cent to settle at rs 175  during the day  the scrip had climbed 5 58 per cent to touch a month s high of rs 175 75 the scrip has gained 10 68 per cent in the last two trading sessions analysts attributed the rise in the telecom stocks to renewed investor interest amid a spurt in telecom scrips globally on the national stock exchange  the stock ended with a gain of 5 25 per cent to close at rs 175 50 most of the telecom counters finished the day in the green the country s top telco bharti airtel gained 2 35 per cent to close the day at rs 366 30  similarly tata teleservices  maharashtra  finished the day 1 28 per cent up at rs 23 65  mtnl was up 0 94 per cent at rs 64 45 however  going against the tide  idea cellular fell 1 41 per cent to close at rs 76 70 the bse 30 share barometer sensex ended the day on a robust note  reflecting a gain of 311 35 points at 19 906 10 \n",
            "\n"
          ],
          "name": "stdout"
        }
      ]
    },
    {
      "cell_type": "code",
      "metadata": {
        "colab_type": "code",
        "id": "Ov6gNQzH6mkd",
        "colab": {}
      },
      "source": [
        "def count_words(count_dict, text):\n",
        "    '''Count the number of occurrences of each word in a set of text'''\n",
        "    for sentence in text:\n",
        "        for word in sentence.split():\n",
        "            if word not in count_dict:\n",
        "                count_dict[word] = 1\n",
        "            else:\n",
        "                count_dict[word] += 1"
      ],
      "execution_count": null,
      "outputs": []
    },
    {
      "cell_type": "code",
      "metadata": {
        "colab_type": "code",
        "id": "EL2TwE406mkh",
        "colab": {
          "base_uri": "https://localhost:8080/",
          "height": 34
        },
        "outputId": "4c8ecd1c-9e61-441c-ecda-d0e5760e4f6e"
      },
      "source": [
        "# Find the number of times each word was used and the size of the vocabulary\n",
        "word_counts = {}\n",
        "\n",
        "count_words(word_counts, clean_summaries)\n",
        "count_words(word_counts, clean_texts)\n",
        "            \n",
        "print(\"Size of Vocabulary:\", len(word_counts))"
      ],
      "execution_count": null,
      "outputs": [
        {
          "output_type": "stream",
          "text": [
            "Size of Vocabulary: 51419\n"
          ],
          "name": "stdout"
        }
      ]
    },
    {
      "cell_type": "code",
      "metadata": {
        "id": "3kBX78gbuOQD",
        "colab_type": "code",
        "colab": {}
      },
      "source": [
        "del df"
      ],
      "execution_count": null,
      "outputs": []
    },
    {
      "cell_type": "code",
      "metadata": {
        "colab_type": "code",
        "id": "paiPI3pR6mko",
        "colab": {
          "base_uri": "https://localhost:8080/",
          "height": 34
        },
        "outputId": "99d96a7d-5f16-4035-cad7-0b75016493e2"
      },
      "source": [
        "# Load Conceptnet Numberbatch's (CN) embeddings, similar to GloVe, but probably better \n",
        "# (https://github.com/commonsense/conceptnet-numberbatch)\n",
        "embeddings_index = {}\n",
        "with open('/content/drive/My Drive/numberbatch-en-17.02.txt', encoding='utf-8') as f:\n",
        "    for line in f:\n",
        "        values = line.split(' ')\n",
        "        word = values[0]\n",
        "        embedding = np.asarray(values[1:], dtype='float32')\n",
        "        embeddings_index[word] = embedding\n",
        "\n",
        "print('Word embeddings:', len(embeddings_index))"
      ],
      "execution_count": null,
      "outputs": [
        {
          "output_type": "stream",
          "text": [
            "Word embeddings: 484557\n"
          ],
          "name": "stdout"
        }
      ]
    },
    {
      "cell_type": "code",
      "metadata": {
        "colab_type": "code",
        "id": "kQgzpE_q6mkr",
        "colab": {
          "base_uri": "https://localhost:8080/",
          "height": 50
        },
        "outputId": "7aad836d-c24c-420a-9054-4ca97a7c58c9"
      },
      "source": [
        "# Find the number of words that are missing from CN, and are used more than our threshold.\n",
        "missing_words = 0\n",
        "threshold = 20\n",
        "\n",
        "for word, count in word_counts.items():\n",
        "    if count > threshold:\n",
        "        if word not in embeddings_index:\n",
        "            missing_words += 1\n",
        "            \n",
        "missing_ratio = round(missing_words/len(word_counts),4)*100\n",
        "            \n",
        "print(\"Number of words missing from CN:\", missing_words)\n",
        "print(\"Percent of words that are missing from vocabulary: {}%\".format(missing_ratio))"
      ],
      "execution_count": null,
      "outputs": [
        {
          "output_type": "stream",
          "text": [
            "Number of words missing from CN: 1284\n",
            "Percent of words that are missing from vocabulary: 2.5%\n"
          ],
          "name": "stdout"
        }
      ]
    },
    {
      "cell_type": "markdown",
      "metadata": {
        "colab_type": "text",
        "id": "g4m_anQh6mkx"
      },
      "source": [
        "I use a threshold of 20, so that words not in CN can be added to our word_embedding_matrix, but they need to be common enough in the reviews so that the model can understand their meaning."
      ]
    },
    {
      "cell_type": "code",
      "metadata": {
        "colab_type": "code",
        "id": "3wR-Uv4F6mky",
        "colab": {
          "base_uri": "https://localhost:8080/",
          "height": 67
        },
        "outputId": "ca1a8a1a-7597-4896-b231-271aa0147e35"
      },
      "source": [
        "# Limit the vocab that we will use to words that appear ≥ threshold or are in GloVe\n",
        "\n",
        "#dictionary to convert words to integers\n",
        "vocab_to_int = {} \n",
        "\n",
        "value = 0\n",
        "for word, count in word_counts.items():\n",
        "    if count >= threshold or word in embeddings_index:\n",
        "        vocab_to_int[word] = value\n",
        "        value += 1\n",
        "\n",
        "# Special tokens that will be added to our vocab\n",
        "codes = [\"<UNK>\",\"<PAD>\",\"<EOS>\",\"<GO>\"]   \n",
        "\n",
        "# Add codes to vocab\n",
        "for code in codes:\n",
        "    vocab_to_int[code] = len(vocab_to_int)\n",
        "\n",
        "# Dictionary to convert integers to words\n",
        "int_to_vocab = {}\n",
        "for word, value in vocab_to_int.items():\n",
        "    int_to_vocab[value] = word\n",
        "\n",
        "usage_ratio = round(len(vocab_to_int) / len(word_counts),4)*100\n",
        "\n",
        "print(\"Total number of unique words:\", len(word_counts))\n",
        "print(\"Number of words we will use:\", len(vocab_to_int))\n",
        "print(\"Percent of words we will use: {}%\".format(usage_ratio))"
      ],
      "execution_count": null,
      "outputs": [
        {
          "output_type": "stream",
          "text": [
            "Total number of unique words: 51419\n",
            "Number of words we will use: 29002\n",
            "Percent of words we will use: 56.39999999999999%\n"
          ],
          "name": "stdout"
        }
      ]
    },
    {
      "cell_type": "code",
      "metadata": {
        "colab_type": "code",
        "id": "7sPlq0P06mk4",
        "colab": {
          "base_uri": "https://localhost:8080/",
          "height": 34
        },
        "outputId": "001b61cd-dee2-4211-9003-d6bdac70c997"
      },
      "source": [
        "# Need to use 300 for embedding dimensions to match CN's vectors.\n",
        "embedding_dim = 300\n",
        "nb_words = len(vocab_to_int)\n",
        "\n",
        "# Create matrix with default values of zero\n",
        "word_embedding_matrix = np.zeros((nb_words, embedding_dim), dtype=np.float32)\n",
        "for word, i in vocab_to_int.items():\n",
        "    if word in embeddings_index:\n",
        "        word_embedding_matrix[i] = embeddings_index[word]\n",
        "    else:\n",
        "        # If word not in CN, create a random embedding for it\n",
        "        new_embedding = np.array(np.random.uniform(-1.0, 1.0, embedding_dim))\n",
        "        embeddings_index[word] = new_embedding\n",
        "        word_embedding_matrix[i] = new_embedding\n",
        "\n",
        "# Check if value matches len(vocab_to_int)\n",
        "print(len(word_embedding_matrix))"
      ],
      "execution_count": null,
      "outputs": [
        {
          "output_type": "stream",
          "text": [
            "29002\n"
          ],
          "name": "stdout"
        }
      ]
    },
    {
      "cell_type": "code",
      "metadata": {
        "id": "D5JHlfZSyKmY",
        "colab_type": "code",
        "colab": {
          "base_uri": "https://localhost:8080/",
          "height": 34
        },
        "outputId": "a4bf03fe-1085-4921-ccfa-c9fffde43550"
      },
      "source": [
        "print(len(vocab_to_int))"
      ],
      "execution_count": null,
      "outputs": [
        {
          "output_type": "stream",
          "text": [
            "29002\n"
          ],
          "name": "stdout"
        }
      ]
    },
    {
      "cell_type": "code",
      "metadata": {
        "colab_type": "code",
        "id": "lCQ36Smn6mk-",
        "colab": {}
      },
      "source": [
        "def convert_to_ints(text, word_count, unk_count, eos=False):\n",
        "    '''Convert words in text to an integer.\n",
        "       If word is not in vocab_to_int, use UNK's integer.\n",
        "       Total the number of words and UNKs.\n",
        "       Add EOS token to the end of texts'''\n",
        "    ints = []\n",
        "    for sentence in text:\n",
        "        sentence_ints = []\n",
        "        for word in sentence.split():\n",
        "            word_count += 1\n",
        "            if word in vocab_to_int:\n",
        "                sentence_ints.append(vocab_to_int[word])\n",
        "            else:\n",
        "                sentence_ints.append(vocab_to_int[\"<UNK>\"])\n",
        "                unk_count += 1\n",
        "        if eos:\n",
        "            sentence_ints.append(vocab_to_int[\"<EOS>\"])\n",
        "        ints.append(sentence_ints)\n",
        "    return ints, word_count, unk_count"
      ],
      "execution_count": null,
      "outputs": []
    },
    {
      "cell_type": "code",
      "metadata": {
        "colab_type": "code",
        "id": "547FFl3u6mlA",
        "colab": {
          "base_uri": "https://localhost:8080/",
          "height": 67
        },
        "outputId": "7dea5902-6a96-4134-d475-71a12cb2107d"
      },
      "source": [
        "# Apply convert_to_ints to clean_summaries and clean_texts\n",
        "word_count = 0\n",
        "unk_count = 0\n",
        "\n",
        "int_summaries, word_count, unk_count = convert_to_ints(clean_summaries, word_count, unk_count)\n",
        "int_texts, word_count, unk_count = convert_to_ints(clean_texts, word_count, unk_count, eos=True)\n",
        "\n",
        "unk_percent = round(unk_count/word_count,4)*100\n",
        "\n",
        "print(\"Total number of words in headlines:\", word_count)\n",
        "print(\"Total number of UNKs in headlines:\", unk_count)\n",
        "print(\"Percent of words that are UNK: {}%\".format(unk_percent))"
      ],
      "execution_count": null,
      "outputs": [
        {
          "output_type": "stream",
          "text": [
            "Total number of words in headlines: 3071633\n",
            "Total number of UNKs in headlines: 49802\n",
            "Percent of words that are UNK: 1.6199999999999999%\n"
          ],
          "name": "stdout"
        }
      ]
    },
    {
      "cell_type": "code",
      "metadata": {
        "colab_type": "code",
        "id": "dnRzSx6M6mlD",
        "colab": {}
      },
      "source": [
        "def create_lengths(text):\n",
        "    '''Create a data frame of the sentence lengths from a text'''\n",
        "    lengths = []\n",
        "    for sentence in text:\n",
        "        lengths.append(len(sentence))\n",
        "    return pd.DataFrame(lengths, columns=['counts'])"
      ],
      "execution_count": null,
      "outputs": []
    },
    {
      "cell_type": "code",
      "metadata": {
        "colab_type": "code",
        "id": "5_i-9rYV6mlF",
        "colab": {
          "base_uri": "https://localhost:8080/",
          "height": 370
        },
        "outputId": "cfc20b11-072a-4727-f14b-d7fd3f40bf87"
      },
      "source": [
        "lengths_summaries = create_lengths(int_summaries)\n",
        "lengths_texts = create_lengths(int_texts)\n",
        "\n",
        "print(\"Summaries:\")\n",
        "print(lengths_summaries.describe())\n",
        "print()\n",
        "print(\"Texts:\")\n",
        "print(lengths_texts.describe())"
      ],
      "execution_count": null,
      "outputs": [
        {
          "output_type": "stream",
          "text": [
            "Summaries:\n",
            "            counts\n",
            "count  7622.000000\n",
            "mean     21.445815\n",
            "std       7.076050\n",
            "min       3.000000\n",
            "25%      16.000000\n",
            "50%      20.000000\n",
            "75%      26.000000\n",
            "max      70.000000\n",
            "\n",
            "Texts:\n",
            "            counts\n",
            "count  7622.000000\n",
            "mean    382.549856\n",
            "std     258.839694\n",
            "min       6.000000\n",
            "25%     203.000000\n",
            "50%     312.000000\n",
            "75%     486.000000\n",
            "max    5233.000000\n"
          ],
          "name": "stdout"
        }
      ]
    },
    {
      "cell_type": "code",
      "metadata": {
        "colab_type": "code",
        "id": "wVMlHmV46mlI",
        "colab": {
          "base_uri": "https://localhost:8080/",
          "height": 67
        },
        "outputId": "eab0556d-edb1-48ea-8ffd-5619af8e4869"
      },
      "source": [
        "# Inspect the length of texts\n",
        "print(np.percentile(lengths_texts.counts, 90))\n",
        "print(np.percentile(lengths_texts.counts, 95))\n",
        "print(np.percentile(lengths_texts.counts, 99))"
      ],
      "execution_count": null,
      "outputs": [
        {
          "output_type": "stream",
          "text": [
            "712.9000000000005\n",
            "868.0\n",
            "1273.79\n"
          ],
          "name": "stdout"
        }
      ]
    },
    {
      "cell_type": "code",
      "metadata": {
        "colab_type": "code",
        "id": "Ic8buaf16mlL",
        "colab": {
          "base_uri": "https://localhost:8080/",
          "height": 67
        },
        "outputId": "eff21502-f2a9-4fe9-8c77-23ccb8a1a710"
      },
      "source": [
        "# Inspect the length of summaries\n",
        "print(np.percentile(lengths_summaries.counts, 90))\n",
        "print(np.percentile(lengths_summaries.counts, 95))\n",
        "print(np.percentile(lengths_summaries.counts, 99))"
      ],
      "execution_count": null,
      "outputs": [
        {
          "output_type": "stream",
          "text": [
            "30.0\n",
            "33.94999999999982\n",
            "42.0\n"
          ],
          "name": "stdout"
        }
      ]
    },
    {
      "cell_type": "code",
      "metadata": {
        "colab_type": "code",
        "id": "IPW-kF136mlQ",
        "colab": {}
      },
      "source": [
        "def unk_counter(sentence):\n",
        "    '''Counts the number of time UNK appears in a sentence.'''\n",
        "    unk_count = 0\n",
        "    for word in sentence:\n",
        "        if word == vocab_to_int[\"<UNK>\"]:\n",
        "            unk_count += 1\n",
        "    return unk_count"
      ],
      "execution_count": null,
      "outputs": []
    },
    {
      "cell_type": "markdown",
      "metadata": {
        "colab_type": "text",
        "id": "jYnQFLER6mlY"
      },
      "source": [
        "## Building the Model"
      ]
    },
    {
      "cell_type": "code",
      "metadata": {
        "colab_type": "code",
        "id": "U1MIZPcl6mlZ",
        "colab": {}
      },
      "source": [
        "def model_inputs():\n",
        "    '''Create palceholders for inputs to the model'''\n",
        "    \n",
        "    input_data = tf.placeholder(tf.int32, [None, None], name='input')\n",
        "    targets = tf.placeholder(tf.int32, [None, None], name='targets')\n",
        "    lr = tf.placeholder(tf.float32, name='learning_rate')\n",
        "    keep_prob = tf.placeholder(tf.float32, name='keep_prob')\n",
        "    summary_length = tf.placeholder(tf.int32, (None,), name='summary_length')\n",
        "    max_summary_length = tf.reduce_max(summary_length, name='max_dec_len')\n",
        "    text_length = tf.placeholder(tf.int32, (None,), name='text_length')\n",
        "\n",
        "    return input_data, targets, lr, keep_prob, summary_length, max_summary_length, text_length"
      ],
      "execution_count": null,
      "outputs": []
    },
    {
      "cell_type": "code",
      "metadata": {
        "colab_type": "code",
        "id": "dGoxdoHz6mlc",
        "colab": {}
      },
      "source": [
        "def process_encoding_input(target_data, vocab_to_int, batch_size):\n",
        "    '''Remove the last word id from each batch and concat the <GO> to the begining of each batch'''\n",
        "    \n",
        "    ending = tf.strided_slice(target_data, [0, 0], [batch_size, -1], [1, 1])\n",
        "    dec_input = tf.concat([tf.fill([batch_size, 1], vocab_to_int['<GO>']), ending], 1)\n",
        "\n",
        "    return dec_input"
      ],
      "execution_count": null,
      "outputs": []
    },
    {
      "cell_type": "code",
      "metadata": {
        "colab_type": "code",
        "id": "aJ7p3phH6mld",
        "colab": {}
      },
      "source": [
        "def encoding_layer(rnn_size, sequence_length, num_layers, rnn_inputs, keep_prob):\n",
        "    '''Create the encoding layer'''\n",
        "    \n",
        "    for layer in range(num_layers):\n",
        "        with tf.variable_scope('encoder_{}'.format(layer)):\n",
        "            cell_fw = tf.contrib.rnn.LSTMCell(rnn_size,\n",
        "                                              initializer=tf.random_uniform_initializer(-0.1, 0.1, seed=2))\n",
        "            cell_fw = tf.contrib.rnn.DropoutWrapper(cell_fw, \n",
        "                                                    input_keep_prob = keep_prob)\n",
        "\n",
        "            cell_bw = tf.contrib.rnn.LSTMCell(rnn_size,\n",
        "                                              initializer=tf.random_uniform_initializer(-0.1, 0.1, seed=2))\n",
        "            cell_bw = tf.contrib.rnn.DropoutWrapper(cell_bw, \n",
        "                                                    input_keep_prob = keep_prob)\n",
        "\n",
        "            enc_output, enc_state = tf.nn.bidirectional_dynamic_rnn(cell_fw, \n",
        "                                                                    cell_bw, \n",
        "                                                                    rnn_inputs,\n",
        "                                                                    sequence_length,\n",
        "                                                                    dtype=tf.float32)\n",
        "    # Join outputs since we are using a bidirectional RNN\n",
        "    enc_output = tf.concat(enc_output,2)\n",
        "    \n",
        "    return enc_output, enc_state"
      ],
      "execution_count": null,
      "outputs": []
    },
    {
      "cell_type": "code",
      "metadata": {
        "colab_type": "code",
        "id": "ejCY-IG56mlg",
        "colab": {}
      },
      "source": [
        "def training_decoding_layer(dec_embed_input, summary_length, dec_cell, initial_state, output_layer, \n",
        "                            vocab_size, max_summary_length):\n",
        "    '''Create the training logits'''\n",
        "    \n",
        "    training_helper = tf.contrib.seq2seq.TrainingHelper(inputs=dec_embed_input,\n",
        "                                                        sequence_length=summary_length,\n",
        "                                                        time_major=False)\n",
        "\n",
        "    training_decoder = tf.contrib.seq2seq.BasicDecoder(dec_cell,\n",
        "                                                       training_helper,\n",
        "                                                       initial_state,\n",
        "                                                       output_layer) \n",
        "\n",
        "    training_logits, _ , _ = tf.contrib.seq2seq.dynamic_decode(training_decoder,\n",
        "                                                           output_time_major=False,\n",
        "                                                           impute_finished=True,\n",
        "                                                           maximum_iterations=max_summary_length)\n",
        "    return training_decoder"
      ],
      "execution_count": null,
      "outputs": []
    },
    {
      "cell_type": "code",
      "metadata": {
        "colab_type": "code",
        "id": "p5RpDsV56mll",
        "colab": {}
      },
      "source": [
        "def inference_decoding_layer(embeddings, start_token, end_token, dec_cell, initial_state, output_layer,\n",
        "                             max_summary_length, batch_size):\n",
        "    '''Create the inference logits'''\n",
        "    \n",
        "    start_tokens = tf.tile(tf.constant([start_token], dtype=tf.int32), [batch_size], name='start_tokens')\n",
        "    \n",
        "    inference_helper = tf.contrib.seq2seq.GreedyEmbeddingHelper(embeddings,\n",
        "                                                                start_tokens,\n",
        "                                                                end_token)\n",
        "                \n",
        "    inference_decoder = tf.contrib.seq2seq.BasicDecoder(dec_cell,\n",
        "                                                        inference_helper,\n",
        "                                                        initial_state,\n",
        "                                                        output_layer)\n",
        "                \n",
        "    inference_logits, _ , _ = tf.contrib.seq2seq.dynamic_decode(inference_decoder,\n",
        "                                                            output_time_major=False,\n",
        "                                                            impute_finished=True,\n",
        "                                                            maximum_iterations=max_summary_length)\n",
        "    \n",
        "    return inference_decoder"
      ],
      "execution_count": null,
      "outputs": []
    },
    {
      "cell_type": "code",
      "metadata": {
        "colab_type": "code",
        "id": "MBcDmTXx6mln",
        "colab": {}
      },
      "source": [
        "def decoding_layer(dec_embed_input, embeddings, enc_output, enc_state, vocab_size, text_length, summary_length, \n",
        "                   max_summary_length, rnn_size, vocab_to_int, keep_prob, batch_size, num_layers):\n",
        "    '''Create the decoding cell and attention for the training and inference decoding layers'''\n",
        "    \n",
        "    for layer in range(num_layers):\n",
        "        with tf.variable_scope('decoder_{}'.format(layer)):\n",
        "            lstm = tf.contrib.rnn.LSTMCell(rnn_size,\n",
        "                                           initializer=tf.random_uniform_initializer(-0.1, 0.1, seed=2))\n",
        "            dec_cell = tf.contrib.rnn.DropoutWrapper(lstm, \n",
        "                                                     input_keep_prob = keep_prob)\n",
        "    \n",
        "    output_layer = Dense(vocab_size,\n",
        "                         kernel_initializer = tf.truncated_normal_initializer(mean = 0.0, stddev=0.1))\n",
        "    \n",
        "    attn_mech = tf.contrib.seq2seq.BahdanauAttention(rnn_size,\n",
        "                                                  enc_output,\n",
        "                                                  text_length,\n",
        "                                                  normalize=False,\n",
        "                                                  name='BahdanauAttention')\n",
        "\n",
        "    dec_cell = tf.contrib.seq2seq.AttentionWrapper(dec_cell,\n",
        "                                                          attn_mech,\n",
        "                                                          rnn_size)\n",
        "            \n",
        "    #initial_state = tf.contrib.seq2seq.AttentionWrapperState(enc_state[0],\n",
        "    #                                                                _zero_state_tensors(rnn_size, \n",
        "    #                                                                                    batch_size, \n",
        "    #                                                                                    tf.float32)) \n",
        "    initial_state = dec_cell.zero_state(batch_size=batch_size,dtype=tf.float32).clone(cell_state=enc_state[0])\n",
        "\n",
        "    with tf.variable_scope(\"decode\"):\n",
        "        training_decoder = training_decoding_layer(dec_embed_input, \n",
        "                                                  summary_length, \n",
        "                                                  dec_cell, \n",
        "                                                  initial_state,\n",
        "                                                  output_layer,\n",
        "                                                  vocab_size, \n",
        "                                                  max_summary_length)\n",
        "        \n",
        "        training_logits,_ ,_ = tf.contrib.seq2seq.dynamic_decode(training_decoder,\n",
        "                                  output_time_major=False,\n",
        "                                  impute_finished=True,\n",
        "                                  maximum_iterations=max_summary_length)\n",
        "    with tf.variable_scope(\"decode\", reuse=True):\n",
        "        inference_decoder = inference_decoding_layer(embeddings,  \n",
        "                                                    vocab_to_int['<GO>'], \n",
        "                                                    vocab_to_int['<EOS>'],\n",
        "                                                    dec_cell, \n",
        "                                                    initial_state, \n",
        "                                                    output_layer,\n",
        "                                                    max_summary_length,\n",
        "                                                    batch_size)\n",
        "        \n",
        "        inference_logits,_ ,_ = tf.contrib.seq2seq.dynamic_decode(inference_decoder,\n",
        "                                  output_time_major=False,\n",
        "                                  impute_finished=True,\n",
        "                                  maximum_iterations=max_summary_length)\n",
        "\n",
        "    return training_logits, inference_logits"
      ],
      "execution_count": null,
      "outputs": []
    },
    {
      "cell_type": "code",
      "metadata": {
        "colab_type": "code",
        "id": "JuVESpih6mlo",
        "colab": {}
      },
      "source": [
        "def seq2seq_model(input_data, target_data, keep_prob, text_length, summary_length, max_summary_length, \n",
        "                  vocab_size, rnn_size, num_layers, vocab_to_int, batch_size):\n",
        "    '''Use the previous functions to create the training and inference logits'''\n",
        "    \n",
        "    # Use Numberbatch's embeddings and the newly created ones as our embeddings\n",
        "    embeddings = word_embedding_matrix\n",
        "    \n",
        "    enc_embed_input = tf.nn.embedding_lookup(embeddings, input_data)\n",
        "    enc_output, enc_state = encoding_layer(rnn_size, text_length, num_layers, enc_embed_input, keep_prob)\n",
        "    \n",
        "    dec_input = process_encoding_input(target_data, vocab_to_int, batch_size)\n",
        "    dec_embed_input = tf.nn.embedding_lookup(embeddings, dec_input)\n",
        "    \n",
        "    training_logits, inference_logits  = decoding_layer(dec_embed_input, \n",
        "                                                        embeddings,\n",
        "                                                        enc_output,\n",
        "                                                        enc_state, \n",
        "                                                        vocab_size, \n",
        "                                                        text_length, \n",
        "                                                        summary_length, \n",
        "                                                        max_summary_length,\n",
        "                                                        rnn_size, \n",
        "                                                        vocab_to_int, \n",
        "                                                        keep_prob, \n",
        "                                                        batch_size,\n",
        "                                                        num_layers)\n",
        "    \n",
        "    return training_logits, inference_logits"
      ],
      "execution_count": null,
      "outputs": []
    },
    {
      "cell_type": "code",
      "metadata": {
        "colab_type": "code",
        "id": "C6w_YGts6mlq",
        "colab": {}
      },
      "source": [
        "def pad_sentence_batch(sentence_batch):\n",
        "    \"\"\"Pad sentences with <PAD> so that each sentence of a batch has the same length\"\"\"\n",
        "    max_sentence = max([len(sentence) for sentence in sentence_batch])\n",
        "    return [sentence + [vocab_to_int['<PAD>']] * (max_sentence - len(sentence)) for sentence in sentence_batch]"
      ],
      "execution_count": null,
      "outputs": []
    },
    {
      "cell_type": "code",
      "metadata": {
        "colab_type": "code",
        "id": "72Fvo38MG4kq",
        "colab": {}
      },
      "source": [
        ""
      ],
      "execution_count": null,
      "outputs": []
    },
    {
      "cell_type": "code",
      "metadata": {
        "colab_type": "code",
        "id": "kW6wc5VA6mls",
        "colab": {}
      },
      "source": [
        "def get_batches(summaries, texts, batch_size):\n",
        "    \"\"\"Batch summaries, texts, and the lengths of their sentences together\"\"\"\n",
        "    for batch_i in range(0, len(texts)//batch_size):\n",
        "        start_i = batch_i * batch_size\n",
        "        summaries_batch = summaries[start_i:start_i + batch_size]\n",
        "        texts_batch = texts[start_i:start_i + batch_size]\n",
        "        pad_summaries_batch = np.array(pad_sentence_batch(summaries_batch))\n",
        "        pad_texts_batch = np.array(pad_sentence_batch(texts_batch))\n",
        "        \n",
        "        # Need the lengths for the _lengths parameters\n",
        "        pad_summaries_lengths = []\n",
        "        for summary in pad_summaries_batch:\n",
        "            pad_summaries_lengths.append(len(summary))\n",
        "        \n",
        "        pad_texts_lengths = []\n",
        "        for text in pad_texts_batch:\n",
        "            pad_texts_lengths.append(len(text))\n",
        "        \n",
        "        yield pad_summaries_batch, pad_texts_batch, pad_summaries_lengths, pad_texts_lengths"
      ],
      "execution_count": null,
      "outputs": []
    },
    {
      "cell_type": "code",
      "metadata": {
        "colab_type": "code",
        "id": "gUhPBryV6mlv",
        "colab": {}
      },
      "source": [
        "# Set the Hyperparameters\n",
        "epochs = 20\n",
        "batch_size = 8\n",
        "rnn_size = 256\n",
        "num_layers = 2\n",
        "learning_rate = 0.001\n",
        "keep_probability = 0.75"
      ],
      "execution_count": null,
      "outputs": []
    },
    {
      "cell_type": "code",
      "metadata": {
        "id": "lVxiY93Y0nUx",
        "colab_type": "code",
        "colab": {
          "base_uri": "https://localhost:8080/",
          "height": 35
        },
        "outputId": "4ba54927-cab0-419c-f519-a7f58451c121"
      },
      "source": [
        "tf.__version__"
      ],
      "execution_count": null,
      "outputs": [
        {
          "output_type": "execute_result",
          "data": {
            "application/vnd.google.colaboratory.intrinsic+json": {
              "type": "string"
            },
            "text/plain": [
              "'1.15.2'"
            ]
          },
          "metadata": {
            "tags": []
          },
          "execution_count": 42
        }
      ]
    },
    {
      "cell_type": "code",
      "metadata": {
        "colab_type": "code",
        "id": "3I3bJqTD6mlx",
        "colab": {
          "base_uri": "https://localhost:8080/",
          "height": 490
        },
        "outputId": "d4452863-6fff-4f42-928b-e7aa064979b8"
      },
      "source": [
        "# Build the graph\n",
        "train_graph = tf.Graph()\n",
        "# Set the graph to default to ensure that it is ready for training\n",
        "with train_graph.as_default():\n",
        "    \n",
        "    # Load the model inputs    \n",
        "    input_data, targets, lr, keep_prob, summary_length, max_summary_length, text_length = model_inputs()\n",
        "\n",
        "    # Create the training and inference logits\n",
        "    training_logits, inference_logits = seq2seq_model(tf.reverse(input_data, [-1]),\n",
        "                                                      targets, \n",
        "                                                      keep_prob,   \n",
        "                                                      text_length,\n",
        "                                                      summary_length,\n",
        "                                                      max_summary_length,\n",
        "                                                      len(vocab_to_int)+1,\n",
        "                                                      rnn_size, \n",
        "                                                      num_layers, \n",
        "                                                      vocab_to_int,\n",
        "                                                      batch_size)\n",
        "    \n",
        "    # Create tensors for the training logits and inference logits\n",
        "    training_logits = tf.identity(training_logits.rnn_output, 'logits')\n",
        "    inference_logits = tf.identity(inference_logits.sample_id, name='predictions')\n",
        "    \n",
        "    # Create the weights for sequence_loss\n",
        "    masks = tf.sequence_mask(summary_length, max_summary_length, dtype=tf.float32, name='masks')\n",
        "\n",
        "    with tf.name_scope(\"optimization\"):\n",
        "        # Loss function\n",
        "        cost = tf.contrib.seq2seq.sequence_loss(\n",
        "            training_logits,\n",
        "            targets,\n",
        "            masks)\n",
        "\n",
        "        # Optimizer\n",
        "        optimizer = tf.train.AdamOptimizer(learning_rate)\n",
        "\n",
        "        # Gradient Clipping\n",
        "        gradients = optimizer.compute_gradients(cost)\n",
        "        capped_gradients = [(tf.clip_by_value(grad, -5., 5.), var) for grad, var in gradients if grad is not None]\n",
        "        train_op = optimizer.apply_gradients(capped_gradients)\n",
        "print(\"Graph is built.\")"
      ],
      "execution_count": null,
      "outputs": [
        {
          "output_type": "stream",
          "text": [
            "WARNING:tensorflow:\n",
            "The TensorFlow contrib module will not be included in TensorFlow 2.0.\n",
            "For more information, please see:\n",
            "  * https://github.com/tensorflow/community/blob/master/rfcs/20180907-contrib-sunset.md\n",
            "  * https://github.com/tensorflow/addons\n",
            "  * https://github.com/tensorflow/io (for I/O related ops)\n",
            "If you depend on functionality not listed there, please file an issue.\n",
            "\n",
            "WARNING:tensorflow:From <ipython-input-34-9390cb26606a>:7: LSTMCell.__init__ (from tensorflow.python.ops.rnn_cell_impl) is deprecated and will be removed in a future version.\n",
            "Instructions for updating:\n",
            "This class is equivalent as tf.keras.layers.LSTMCell, and will be replaced by that in Tensorflow 2.0.\n",
            "WARNING:tensorflow:From <ipython-input-34-9390cb26606a>:20: bidirectional_dynamic_rnn (from tensorflow.python.ops.rnn) is deprecated and will be removed in a future version.\n",
            "Instructions for updating:\n",
            "Please use `keras.layers.Bidirectional(keras.layers.RNN(cell))`, which is equivalent to this API\n",
            "WARNING:tensorflow:From /tensorflow-1.15.2/python3.6/tensorflow_core/python/ops/rnn.py:464: dynamic_rnn (from tensorflow.python.ops.rnn) is deprecated and will be removed in a future version.\n",
            "Instructions for updating:\n",
            "Please use `keras.layers.RNN(cell)`, which is equivalent to this API\n",
            "WARNING:tensorflow:From /tensorflow-1.15.2/python3.6/tensorflow_core/python/ops/rnn_cell_impl.py:958: Layer.add_variable (from tensorflow.python.keras.engine.base_layer) is deprecated and will be removed in a future version.\n",
            "Instructions for updating:\n",
            "Please use `layer.add_weight` method instead.\n",
            "WARNING:tensorflow:From /tensorflow-1.15.2/python3.6/tensorflow_core/python/ops/rnn_cell_impl.py:962: calling Zeros.__init__ (from tensorflow.python.ops.init_ops) with dtype is deprecated and will be removed in a future version.\n",
            "Instructions for updating:\n",
            "Call initializer instance with the dtype argument instead of passing it to the constructor\n",
            "WARNING:tensorflow:From /tensorflow-1.15.2/python3.6/tensorflow_core/python/ops/rnn.py:244: where (from tensorflow.python.ops.array_ops) is deprecated and will be removed in a future version.\n",
            "Instructions for updating:\n",
            "Use tf.where in 2.0, which has the same broadcast rule as np.where\n",
            "Graph is built.\n"
          ],
          "name": "stdout"
        }
      ]
    },
    {
      "cell_type": "markdown",
      "metadata": {
        "colab_type": "text",
        "id": "fmFOlquE6ml0"
      },
      "source": [
        "## Training the Model"
      ]
    },
    {
      "cell_type": "markdown",
      "metadata": {
        "colab_type": "text",
        "id": "xprfbevu6ml2"
      },
      "source": [
        "Since I am training this model on my MacBook Pro, it would take me days if I used the whole dataset. For this reason, I am only going to use a subset of the data, so that I can train it over night. Normally I use [FloydHub's](https://www.floydhub.com/) services for my GPU needs, but it would take quite a bit of time to upload the dataset and ConceptNet Numberbatch, so I'm not going to bother with that for this project.\n",
        "\n",
        "I chose not use use the start of the subset because I didn't want to make it too easy for my model. The texts that I am using are closer to the median lengths; I thought this would be more fair."
      ]
    },
    {
      "cell_type": "code",
      "metadata": {
        "id": "XiVg9cD5963q",
        "colab_type": "code",
        "colab": {}
      },
      "source": [
        "#len(sorted_summaries)"
      ],
      "execution_count": null,
      "outputs": []
    },
    {
      "cell_type": "code",
      "metadata": {
        "colab_type": "code",
        "id": "nlNcRq4j6ml3",
        "colab": {
          "base_uri": "https://localhost:8080/",
          "height": 50
        },
        "outputId": "8d29103f-9443-4a5e-a9d2-a17575ec57d4"
      },
      "source": [
        "# Subset the data for training\n",
        "#start = 100000\n",
        "#end = start + 400000\n",
        "sorted_summaries_short = int_summaries\n",
        "sorted_texts_short = int_texts\n",
        "print(\"The shortest text length:\", len(sorted_texts_short))\n",
        "print(\"The longest text length:\",len(sorted_texts_short))"
      ],
      "execution_count": null,
      "outputs": [
        {
          "output_type": "stream",
          "text": [
            "The shortest text length: 7622\n",
            "The longest text length: 7622\n"
          ],
          "name": "stdout"
        }
      ]
    },
    {
      "cell_type": "code",
      "metadata": {
        "colab_type": "code",
        "id": "XASfketR6ml6",
        "colab": {
          "base_uri": "https://localhost:8080/",
          "height": 1000
        },
        "outputId": "df83b422-6306-4735-a25a-aa732e1bf236"
      },
      "source": [
        "# Train the Model\n",
        "learning_rate_decay = 0.95\n",
        "min_learning_rate = 0.0005\n",
        "display_step = 5 # Check training loss after every 10 batches\n",
        "stop_early = 0 \n",
        "stop = 6 #3 # If the update loss does not decrease in 6 consecutive update checks, stop training\n",
        "per_epoch = 3 # Make 3 update checks per epoch\n",
        "update_check = (len(sorted_texts_short)//batch_size//per_epoch)-1\n",
        "\n",
        "update_loss = 0 \n",
        "batch_loss = 0\n",
        "summary_update_loss = [] # Record the update losses for saving improvements in the model\n",
        "\n",
        "  \n",
        "tf.reset_default_graph()\n",
        "checkpoint = \"best_model.ckpt\"  #300k sentence\n",
        "with tf.Session(graph=train_graph) as sess:\n",
        "    sess.run(tf.global_variables_initializer())\n",
        "    \n",
        "    # If we want to continue training a previous session\n",
        "    # loader = tf.train.import_meta_graph(checkpoint + '.meta')\n",
        "    # loader.restore(sess, checkpoint)\n",
        "    #sess.run(tf.local_variables_initializer())\n",
        "\n",
        "    for epoch_i in range(1, epochs+1):\n",
        "        update_loss = 0\n",
        "        batch_loss = 0\n",
        "        for batch_i, (summaries_batch, texts_batch, summaries_lengths, texts_lengths) in enumerate(\n",
        "                get_batches(sorted_summaries_short, sorted_texts_short, batch_size)):\n",
        "            start_time = time.time()\n",
        "            _, loss = sess.run(\n",
        "                [train_op, cost],\n",
        "                {input_data: texts_batch,\n",
        "                 targets: summaries_batch,\n",
        "                 lr: learning_rate,\n",
        "                 summary_length: summaries_lengths,\n",
        "                 text_length: texts_lengths,\n",
        "                 keep_prob: keep_probability})\n",
        "\n",
        "            batch_loss += loss\n",
        "            update_loss += loss\n",
        "            end_time = time.time()\n",
        "            batch_time = end_time - start_time\n",
        "\n",
        "            if batch_i % display_step == 0 and batch_i > 0:\n",
        "                print('Epoch {:>3}/{} Batch {:>4}/{} - Loss: {:>6.3f}, Seconds: {:>4.2f}'\n",
        "                      .format(epoch_i,\n",
        "                              epochs, \n",
        "                              batch_i, \n",
        "                              len(sorted_texts_short) // batch_size, \n",
        "                              batch_loss / display_step, \n",
        "                              batch_time*display_step))\n",
        "                batch_loss = 0\n",
        "                \n",
        "                #saver = tf.train.Saver() \n",
        "                #saver.save(sess, checkpoint)\n",
        "                \n",
        "            if batch_i % update_check == 0 and batch_i > 0:\n",
        "                print(\"Average loss for this update:\", round(update_loss/update_check,3))\n",
        "                summary_update_loss.append(update_loss)\n",
        "                \n",
        "              \n",
        "                  \n",
        "                # If the update loss is at a new minimum, save the model\n",
        "                if update_loss <= min(summary_update_loss):\n",
        "                    print('New Record!') \n",
        "                    stop_early = 0\n",
        "                    saver = tf.train.Saver() \n",
        "                    saver.save(sess, checkpoint)\n",
        "\n",
        "                else:\n",
        "                    print(\"No Improvement.\")\n",
        "                    stop_early += 1\n",
        "                    if stop_early == stop:\n",
        "                        break\n",
        "                update_loss = 0\n",
        "            \n",
        "                    \n",
        "        # Reduce learning rate, but not below its minimum value\n",
        "        learning_rate *= learning_rate_decay\n",
        "        if learning_rate < min_learning_rate:\n",
        "            learning_rate = min_learning_rate\n",
        "        \n",
        "        if stop_early == stop:\n",
        "            print(\"Stopping Training.\")\n",
        "            break"
      ],
      "execution_count": null,
      "outputs": [
        {
          "output_type": "stream",
          "text": [
            "Epoch   1/20 Batch    5/952 - Loss: 27.231, Seconds: 13.02\n",
            "Epoch   1/20 Batch   10/952 - Loss: 15.059, Seconds: 8.56\n",
            "Epoch   1/20 Batch   15/952 - Loss: 18.048, Seconds: 10.22\n",
            "Epoch   1/20 Batch   20/952 - Loss: 21.638, Seconds: 10.81\n",
            "Epoch   1/20 Batch   25/952 - Loss: 16.731, Seconds: 9.79\n",
            "Epoch   1/20 Batch   30/952 - Loss: 20.986, Seconds: 15.11\n",
            "Epoch   1/20 Batch   35/952 - Loss: 26.894, Seconds: 20.36\n",
            "Epoch   1/20 Batch   40/952 - Loss: 50.750, Seconds: 11.63\n",
            "Epoch   1/20 Batch   45/952 - Loss: 55.081, Seconds: 11.04\n",
            "Epoch   1/20 Batch   50/952 - Loss: 40.348, Seconds: 8.43\n",
            "Epoch   1/20 Batch   55/952 - Loss: 77.588, Seconds: 8.35\n",
            "Epoch   1/20 Batch   60/952 - Loss: 93.639, Seconds: 18.15\n",
            "Epoch   1/20 Batch   65/952 - Loss: 72.602, Seconds: 10.69\n",
            "Epoch   1/20 Batch   70/952 - Loss: 88.027, Seconds: 17.52\n",
            "Epoch   1/20 Batch   75/952 - Loss: 97.339, Seconds: 16.30\n",
            "Epoch   1/20 Batch   80/952 - Loss: 109.450, Seconds: 13.49\n",
            "Epoch   1/20 Batch   85/952 - Loss: 117.517, Seconds: 10.07\n",
            "Epoch   1/20 Batch   90/952 - Loss: 150.941, Seconds: 11.32\n",
            "Epoch   1/20 Batch   95/952 - Loss: 183.457, Seconds: 10.05\n",
            "Epoch   1/20 Batch  100/952 - Loss: 182.470, Seconds: 8.15\n",
            "Epoch   1/20 Batch  105/952 - Loss: 175.643, Seconds: 13.02\n",
            "Epoch   1/20 Batch  110/952 - Loss: 186.598, Seconds: 19.56\n",
            "Epoch   1/20 Batch  115/952 - Loss: 203.737, Seconds: 11.00\n",
            "Epoch   1/20 Batch  120/952 - Loss: 210.743, Seconds: 28.39\n",
            "Epoch   1/20 Batch  125/952 - Loss: 216.956, Seconds: 11.51\n",
            "Epoch   1/20 Batch  130/952 - Loss: 246.228, Seconds: 7.44\n",
            "Epoch   1/20 Batch  135/952 - Loss: 255.669, Seconds: 23.87\n",
            "Epoch   1/20 Batch  140/952 - Loss: 276.877, Seconds: 27.94\n",
            "Epoch   1/20 Batch  145/952 - Loss: 250.935, Seconds: 7.02\n",
            "Epoch   1/20 Batch  150/952 - Loss: 254.511, Seconds: 12.41\n",
            "Epoch   1/20 Batch  155/952 - Loss: 279.925, Seconds: 13.43\n",
            "Epoch   1/20 Batch  160/952 - Loss: 281.462, Seconds: 16.47\n",
            "Epoch   1/20 Batch  165/952 - Loss: 304.799, Seconds: 14.97\n",
            "Epoch   1/20 Batch  170/952 - Loss: 275.969, Seconds: 14.74\n",
            "Epoch   1/20 Batch  175/952 - Loss: 266.421, Seconds: 18.23\n",
            "Epoch   1/20 Batch  180/952 - Loss: 362.095, Seconds: 6.68\n",
            "Epoch   1/20 Batch  185/952 - Loss: 381.526, Seconds: 13.17\n",
            "Epoch   1/20 Batch  190/952 - Loss: 465.725, Seconds: 9.64\n",
            "Epoch   1/20 Batch  195/952 - Loss: 401.578, Seconds: 12.97\n",
            "Epoch   1/20 Batch  200/952 - Loss: 440.506, Seconds: 12.29\n",
            "Epoch   1/20 Batch  205/952 - Loss: 418.985, Seconds: 12.25\n",
            "Epoch   1/20 Batch  210/952 - Loss: 411.784, Seconds: 13.12\n",
            "Epoch   1/20 Batch  215/952 - Loss: 333.041, Seconds: 15.16\n",
            "Epoch   1/20 Batch  220/952 - Loss: 347.942, Seconds: 9.89\n",
            "Epoch   1/20 Batch  225/952 - Loss: 253.683, Seconds: 16.44\n",
            "Epoch   1/20 Batch  230/952 - Loss: 200.034, Seconds: 11.03\n",
            "Epoch   1/20 Batch  235/952 - Loss: 232.067, Seconds: 16.81\n",
            "Epoch   1/20 Batch  240/952 - Loss: 380.892, Seconds: 10.89\n",
            "Epoch   1/20 Batch  245/952 - Loss: 405.187, Seconds: 15.03\n",
            "Epoch   1/20 Batch  250/952 - Loss: 437.327, Seconds: 9.18\n",
            "Epoch   1/20 Batch  255/952 - Loss: 507.059, Seconds: 14.90\n",
            "Epoch   1/20 Batch  260/952 - Loss: 565.920, Seconds: 13.27\n",
            "Epoch   1/20 Batch  265/952 - Loss: 577.143, Seconds: 12.69\n",
            "Epoch   1/20 Batch  270/952 - Loss: 585.651, Seconds: 6.04\n",
            "Epoch   1/20 Batch  275/952 - Loss: 476.693, Seconds: 10.91\n",
            "Epoch   1/20 Batch  280/952 - Loss: 415.087, Seconds: 13.29\n",
            "Epoch   1/20 Batch  285/952 - Loss: 370.768, Seconds: 15.35\n",
            "Epoch   1/20 Batch  290/952 - Loss: 318.480, Seconds: 17.91\n",
            "Epoch   1/20 Batch  295/952 - Loss: 303.233, Seconds: 10.65\n",
            "Epoch   1/20 Batch  300/952 - Loss: 278.334, Seconds: 10.04\n",
            "Epoch   1/20 Batch  305/952 - Loss: 267.115, Seconds: 9.85\n",
            "Epoch   1/20 Batch  310/952 - Loss: 342.921, Seconds: 11.41\n",
            "Epoch   1/20 Batch  315/952 - Loss: 442.688, Seconds: 12.40\n",
            "Average loss for this update: 255.746\n",
            "New Record!\n",
            "Epoch   1/20 Batch  320/952 - Loss: 455.351, Seconds: 10.37\n",
            "Epoch   1/20 Batch  325/952 - Loss: 435.749, Seconds: 14.01\n",
            "Epoch   1/20 Batch  330/952 - Loss: 448.667, Seconds: 15.13\n",
            "Epoch   1/20 Batch  335/952 - Loss: 427.827, Seconds: 7.33\n",
            "Epoch   1/20 Batch  340/952 - Loss: 398.026, Seconds: 10.51\n",
            "Epoch   1/20 Batch  345/952 - Loss: 397.434, Seconds: 24.48\n",
            "Epoch   1/20 Batch  350/952 - Loss: 454.488, Seconds: 13.76\n",
            "Epoch   1/20 Batch  355/952 - Loss: 370.402, Seconds: 7.07\n",
            "Epoch   1/20 Batch  360/952 - Loss: 313.361, Seconds: 18.81\n",
            "Epoch   1/20 Batch  365/952 - Loss: 279.589, Seconds: 25.55\n",
            "Epoch   1/20 Batch  370/952 - Loss: 263.114, Seconds: 12.64\n",
            "Epoch   1/20 Batch  375/952 - Loss: 222.451, Seconds: 8.47\n",
            "Epoch   1/20 Batch  380/952 - Loss: 224.227, Seconds: 11.68\n",
            "Epoch   1/20 Batch  385/952 - Loss: 199.038, Seconds: 13.82\n",
            "Epoch   1/20 Batch  390/952 - Loss: 299.318, Seconds: 14.31\n",
            "Epoch   1/20 Batch  395/952 - Loss: 345.580, Seconds: 9.67\n",
            "Epoch   1/20 Batch  400/952 - Loss: 323.529, Seconds: 10.20\n",
            "Epoch   1/20 Batch  405/952 - Loss: 421.396, Seconds: 7.45\n",
            "Epoch   1/20 Batch  410/952 - Loss: 434.804, Seconds: 7.77\n",
            "Epoch   1/20 Batch  415/952 - Loss: 431.572, Seconds: 15.34\n",
            "Epoch   1/20 Batch  420/952 - Loss: 439.345, Seconds: 17.03\n",
            "Epoch   1/20 Batch  425/952 - Loss: 403.331, Seconds: 11.72\n",
            "Epoch   1/20 Batch  430/952 - Loss: 470.629, Seconds: 7.80\n",
            "Epoch   1/20 Batch  435/952 - Loss: 498.988, Seconds: 8.61\n",
            "Epoch   1/20 Batch  440/952 - Loss: 418.652, Seconds: 13.67\n",
            "Epoch   1/20 Batch  445/952 - Loss: 422.313, Seconds: 7.19\n",
            "Epoch   1/20 Batch  450/952 - Loss: 415.342, Seconds: 20.34\n",
            "Epoch   1/20 Batch  455/952 - Loss: 381.288, Seconds: 7.71\n",
            "Epoch   1/20 Batch  460/952 - Loss: 356.471, Seconds: 14.94\n",
            "Epoch   1/20 Batch  465/952 - Loss: 312.259, Seconds: 9.25\n",
            "Epoch   1/20 Batch  470/952 - Loss: 269.323, Seconds: 12.68\n",
            "Epoch   1/20 Batch  475/952 - Loss: 289.122, Seconds: 15.03\n",
            "Epoch   1/20 Batch  480/952 - Loss: 289.315, Seconds: 11.66\n",
            "Epoch   1/20 Batch  485/952 - Loss: 342.981, Seconds: 17.76\n",
            "Epoch   1/20 Batch  490/952 - Loss: 429.820, Seconds: 12.74\n",
            "Epoch   1/20 Batch  495/952 - Loss: 385.497, Seconds: 11.18\n",
            "Epoch   1/20 Batch  500/952 - Loss: 489.275, Seconds: 14.84\n",
            "Epoch   1/20 Batch  505/952 - Loss: 509.413, Seconds: 17.41\n",
            "Epoch   1/20 Batch  510/952 - Loss: 587.970, Seconds: 7.11\n",
            "Epoch   1/20 Batch  515/952 - Loss: 590.556, Seconds: 14.11\n",
            "Epoch   1/20 Batch  520/952 - Loss: 656.960, Seconds: 11.10\n",
            "Epoch   1/20 Batch  525/952 - Loss: 540.361, Seconds: 12.95\n",
            "Epoch   1/20 Batch  530/952 - Loss: 611.612, Seconds: 11.90\n",
            "Epoch   1/20 Batch  535/952 - Loss: 450.427, Seconds: 16.16\n",
            "Epoch   1/20 Batch  540/952 - Loss: 486.040, Seconds: 9.16\n",
            "Epoch   1/20 Batch  545/952 - Loss: 525.062, Seconds: 8.79\n",
            "Epoch   1/20 Batch  550/952 - Loss: 507.181, Seconds: 15.48\n",
            "Epoch   1/20 Batch  555/952 - Loss: 509.438, Seconds: 10.29\n",
            "Epoch   1/20 Batch  560/952 - Loss: 534.190, Seconds: 15.56\n",
            "Epoch   1/20 Batch  565/952 - Loss: 525.604, Seconds: 10.91\n",
            "Epoch   1/20 Batch  570/952 - Loss: 532.895, Seconds: 7.75\n",
            "Epoch   1/20 Batch  575/952 - Loss: 491.530, Seconds: 14.59\n",
            "Epoch   1/20 Batch  580/952 - Loss: 410.119, Seconds: 7.46\n",
            "Epoch   1/20 Batch  585/952 - Loss: 534.574, Seconds: 11.54\n",
            "Epoch   1/20 Batch  590/952 - Loss: 488.494, Seconds: 11.43\n",
            "Epoch   1/20 Batch  595/952 - Loss: 519.578, Seconds: 14.14\n",
            "Epoch   1/20 Batch  600/952 - Loss: 487.506, Seconds: 19.61\n",
            "Epoch   1/20 Batch  605/952 - Loss: 526.695, Seconds: 11.00\n",
            "Epoch   1/20 Batch  610/952 - Loss: 418.928, Seconds: 9.21\n",
            "Epoch   1/20 Batch  615/952 - Loss: 462.162, Seconds: 16.90\n",
            "Epoch   1/20 Batch  620/952 - Loss: 535.882, Seconds: 10.93\n",
            "Epoch   1/20 Batch  625/952 - Loss: 467.786, Seconds: 10.94\n",
            "Epoch   1/20 Batch  630/952 - Loss: 417.579, Seconds: 14.96\n",
            "Average loss for this update: 430.455\n",
            "No Improvement.\n",
            "Epoch   1/20 Batch  635/952 - Loss: 438.497, Seconds: 22.09\n",
            "Epoch   1/20 Batch  640/952 - Loss: 415.532, Seconds: 11.09\n",
            "Epoch   1/20 Batch  645/952 - Loss: 385.949, Seconds: 14.21\n",
            "Epoch   1/20 Batch  650/952 - Loss: 388.586, Seconds: 16.79\n",
            "Epoch   1/20 Batch  655/952 - Loss: 334.280, Seconds: 10.62\n",
            "Epoch   1/20 Batch  660/952 - Loss: 385.497, Seconds: 15.10\n",
            "Epoch   1/20 Batch  665/952 - Loss: 321.258, Seconds: 11.03\n",
            "Epoch   1/20 Batch  670/952 - Loss: 353.523, Seconds: 18.52\n",
            "Epoch   1/20 Batch  675/952 - Loss: 513.204, Seconds: 21.28\n",
            "Epoch   1/20 Batch  680/952 - Loss: 416.600, Seconds: 16.75\n",
            "Epoch   1/20 Batch  685/952 - Loss: 488.745, Seconds: 10.36\n",
            "Epoch   1/20 Batch  690/952 - Loss: 484.988, Seconds: 10.33\n",
            "Epoch   1/20 Batch  695/952 - Loss: 530.780, Seconds: 5.98\n",
            "Epoch   1/20 Batch  700/952 - Loss: 595.737, Seconds: 9.32\n",
            "Epoch   1/20 Batch  705/952 - Loss: 636.801, Seconds: 17.89\n",
            "Epoch   1/20 Batch  710/952 - Loss: 631.480, Seconds: 12.11\n",
            "Epoch   1/20 Batch  715/952 - Loss: 749.173, Seconds: 11.04\n",
            "Epoch   1/20 Batch  720/952 - Loss: 528.002, Seconds: 8.87\n",
            "Epoch   1/20 Batch  725/952 - Loss: 583.640, Seconds: 9.71\n",
            "Epoch   1/20 Batch  730/952 - Loss: 557.863, Seconds: 14.54\n",
            "Epoch   1/20 Batch  735/952 - Loss: 494.202, Seconds: 11.13\n",
            "Epoch   1/20 Batch  740/952 - Loss: 580.946, Seconds: 16.82\n",
            "Epoch   1/20 Batch  745/952 - Loss: 550.959, Seconds: 10.13\n",
            "Epoch   1/20 Batch  750/952 - Loss: 657.514, Seconds: 14.34\n",
            "Epoch   1/20 Batch  755/952 - Loss: 567.751, Seconds: 12.87\n",
            "Epoch   1/20 Batch  760/952 - Loss: 481.651, Seconds: 7.72\n",
            "Epoch   1/20 Batch  765/952 - Loss: 512.840, Seconds: 17.74\n",
            "Epoch   1/20 Batch  770/952 - Loss: 478.261, Seconds: 14.23\n",
            "Epoch   1/20 Batch  775/952 - Loss: 524.444, Seconds: 18.60\n",
            "Epoch   1/20 Batch  780/952 - Loss: 398.052, Seconds: 15.35\n",
            "Epoch   1/20 Batch  785/952 - Loss: 468.525, Seconds: 16.26\n",
            "Epoch   1/20 Batch  790/952 - Loss: 397.368, Seconds: 13.26\n",
            "Epoch   1/20 Batch  795/952 - Loss: 408.381, Seconds: 8.65\n",
            "Epoch   1/20 Batch  800/952 - Loss: 424.388, Seconds: 21.58\n",
            "Epoch   1/20 Batch  805/952 - Loss: 326.846, Seconds: 8.37\n",
            "Epoch   1/20 Batch  810/952 - Loss: 323.750, Seconds: 11.83\n",
            "Epoch   1/20 Batch  815/952 - Loss: 302.630, Seconds: 10.11\n",
            "Epoch   1/20 Batch  820/952 - Loss: 296.391, Seconds: 13.16\n",
            "Epoch   1/20 Batch  825/952 - Loss: 334.365, Seconds: 13.04\n",
            "Epoch   1/20 Batch  830/952 - Loss: 286.753, Seconds: 9.94\n",
            "Epoch   1/20 Batch  835/952 - Loss: 284.245, Seconds: 9.23\n",
            "Epoch   1/20 Batch  840/952 - Loss: 260.828, Seconds: 8.61\n",
            "Epoch   1/20 Batch  845/952 - Loss: 258.982, Seconds: 11.79\n",
            "Epoch   1/20 Batch  850/952 - Loss: 268.514, Seconds: 16.71\n",
            "Epoch   1/20 Batch  855/952 - Loss: 258.052, Seconds: 20.70\n",
            "Epoch   1/20 Batch  860/952 - Loss: 245.164, Seconds: 15.42\n",
            "Epoch   1/20 Batch  865/952 - Loss: 260.341, Seconds: 10.92\n",
            "Epoch   1/20 Batch  870/952 - Loss: 274.439, Seconds: 10.70\n",
            "Epoch   1/20 Batch  875/952 - Loss: 310.294, Seconds: 10.21\n",
            "Epoch   1/20 Batch  880/952 - Loss: 277.490, Seconds: 12.24\n",
            "Epoch   1/20 Batch  885/952 - Loss: 263.391, Seconds: 13.69\n",
            "Epoch   1/20 Batch  890/952 - Loss: 314.432, Seconds: 14.65\n",
            "Epoch   1/20 Batch  895/952 - Loss: 306.220, Seconds: 20.52\n",
            "Epoch   1/20 Batch  900/952 - Loss: 293.193, Seconds: 10.72\n",
            "Epoch   1/20 Batch  905/952 - Loss: 249.856, Seconds: 9.22\n",
            "Epoch   1/20 Batch  910/952 - Loss: 291.537, Seconds: 12.51\n",
            "Epoch   1/20 Batch  915/952 - Loss: 300.007, Seconds: 12.12\n",
            "Epoch   1/20 Batch  920/952 - Loss: 267.018, Seconds: 17.08\n",
            "Epoch   1/20 Batch  925/952 - Loss: 248.755, Seconds: 19.91\n",
            "Epoch   1/20 Batch  930/952 - Loss: 222.198, Seconds: 10.92\n",
            "Epoch   1/20 Batch  935/952 - Loss: 210.083, Seconds: 12.07\n",
            "Epoch   1/20 Batch  940/952 - Loss: 249.441, Seconds: 20.43\n",
            "Epoch   1/20 Batch  945/952 - Loss: 236.465, Seconds: 15.05\n",
            "Average loss for this update: 390.539\n",
            "No Improvement.\n",
            "Epoch   1/20 Batch  950/952 - Loss: 328.924, Seconds: 15.36\n",
            "Epoch   2/20 Batch    5/952 - Loss: 699.580, Seconds: 13.34\n",
            "Epoch   2/20 Batch   10/952 - Loss: 520.049, Seconds: 8.13\n",
            "Epoch   2/20 Batch   15/952 - Loss: 510.298, Seconds: 9.91\n",
            "Epoch   2/20 Batch   20/952 - Loss: 596.052, Seconds: 10.29\n",
            "Epoch   2/20 Batch   25/952 - Loss: 569.413, Seconds: 9.36\n",
            "Epoch   2/20 Batch   30/952 - Loss: 608.445, Seconds: 15.05\n",
            "Epoch   2/20 Batch   35/952 - Loss: 682.496, Seconds: 19.62\n",
            "Epoch   2/20 Batch   40/952 - Loss: 632.139, Seconds: 11.30\n",
            "Epoch   2/20 Batch   45/952 - Loss: 682.067, Seconds: 10.63\n",
            "Epoch   2/20 Batch   50/952 - Loss: 598.633, Seconds: 8.06\n",
            "Epoch   2/20 Batch   55/952 - Loss: 641.427, Seconds: 8.18\n",
            "Epoch   2/20 Batch   60/952 - Loss: 562.612, Seconds: 17.49\n",
            "Epoch   2/20 Batch   65/952 - Loss: 512.809, Seconds: 10.37\n",
            "Epoch   2/20 Batch   70/952 - Loss: 487.504, Seconds: 17.27\n",
            "Epoch   2/20 Batch   75/952 - Loss: 506.814, Seconds: 16.03\n",
            "Epoch   2/20 Batch   80/952 - Loss: 411.840, Seconds: 12.88\n",
            "Epoch   2/20 Batch   85/952 - Loss: 354.064, Seconds: 9.83\n",
            "Epoch   2/20 Batch   90/952 - Loss: 312.658, Seconds: 11.35\n",
            "Epoch   2/20 Batch   95/952 - Loss: 283.556, Seconds: 9.91\n",
            "Epoch   2/20 Batch  100/952 - Loss: 260.053, Seconds: 8.01\n",
            "Epoch   2/20 Batch  105/952 - Loss: 241.779, Seconds: 13.31\n",
            "Epoch   2/20 Batch  110/952 - Loss: 200.367, Seconds: 19.29\n",
            "Epoch   2/20 Batch  115/952 - Loss: 246.457, Seconds: 10.88\n",
            "Epoch   2/20 Batch  120/952 - Loss: 270.936, Seconds: 28.10\n",
            "Epoch   2/20 Batch  125/952 - Loss: 238.082, Seconds: 11.64\n",
            "Epoch   2/20 Batch  130/952 - Loss: 221.555, Seconds: 7.35\n",
            "Epoch   2/20 Batch  135/952 - Loss: 231.053, Seconds: 23.88\n",
            "Epoch   2/20 Batch  140/952 - Loss: 199.164, Seconds: 27.66\n",
            "Epoch   2/20 Batch  145/952 - Loss: 205.891, Seconds: 7.19\n",
            "Epoch   2/20 Batch  150/952 - Loss: 194.032, Seconds: 12.61\n",
            "Epoch   2/20 Batch  155/952 - Loss: 217.378, Seconds: 13.03\n",
            "Epoch   2/20 Batch  160/952 - Loss: 231.847, Seconds: 16.77\n",
            "Epoch   2/20 Batch  165/952 - Loss: 209.864, Seconds: 14.34\n",
            "Epoch   2/20 Batch  170/952 - Loss: 207.563, Seconds: 14.41\n",
            "Epoch   2/20 Batch  175/952 - Loss: 185.591, Seconds: 18.38\n",
            "Epoch   2/20 Batch  180/952 - Loss: 192.636, Seconds: 6.72\n",
            "Epoch   2/20 Batch  185/952 - Loss: 180.071, Seconds: 13.00\n",
            "Epoch   2/20 Batch  190/952 - Loss: 191.135, Seconds: 9.28\n",
            "Epoch   2/20 Batch  195/952 - Loss: 154.948, Seconds: 12.97\n",
            "Epoch   2/20 Batch  200/952 - Loss: 176.745, Seconds: 12.24\n",
            "Epoch   2/20 Batch  205/952 - Loss: 143.358, Seconds: 12.06\n",
            "Epoch   2/20 Batch  210/952 - Loss: 155.865, Seconds: 13.00\n",
            "Epoch   2/20 Batch  215/952 - Loss: 155.351, Seconds: 14.98\n",
            "Epoch   2/20 Batch  220/952 - Loss: 178.330, Seconds: 9.76\n",
            "Epoch   2/20 Batch  225/952 - Loss: 178.695, Seconds: 16.41\n",
            "Epoch   2/20 Batch  230/952 - Loss: 423.442, Seconds: 10.52\n",
            "Epoch   2/20 Batch  235/952 - Loss: 415.058, Seconds: 16.29\n",
            "Epoch   2/20 Batch  240/952 - Loss: 425.185, Seconds: 10.20\n",
            "Epoch   2/20 Batch  245/952 - Loss: 505.471, Seconds: 14.51\n",
            "Epoch   2/20 Batch  250/952 - Loss: 528.190, Seconds: 8.85\n",
            "Epoch   2/20 Batch  255/952 - Loss: 506.164, Seconds: 14.37\n",
            "Epoch   2/20 Batch  260/952 - Loss: 550.276, Seconds: 12.72\n",
            "Epoch   2/20 Batch  265/952 - Loss: 567.436, Seconds: 12.04\n",
            "Epoch   2/20 Batch  270/952 - Loss: 574.396, Seconds: 5.96\n",
            "Epoch   2/20 Batch  275/952 - Loss: 493.521, Seconds: 10.72\n",
            "Epoch   2/20 Batch  280/952 - Loss: 477.166, Seconds: 12.99\n",
            "Epoch   2/20 Batch  285/952 - Loss: 458.699, Seconds: 14.82\n",
            "Epoch   2/20 Batch  290/952 - Loss: 439.995, Seconds: 17.53\n",
            "Epoch   2/20 Batch  295/952 - Loss: 485.827, Seconds: 10.74\n",
            "Epoch   2/20 Batch  300/952 - Loss: 405.415, Seconds: 9.81\n",
            "Epoch   2/20 Batch  305/952 - Loss: 433.573, Seconds: 9.67\n",
            "Epoch   2/20 Batch  310/952 - Loss: 435.048, Seconds: 10.83\n",
            "Epoch   2/20 Batch  315/952 - Loss: 369.087, Seconds: 12.27\n",
            "Average loss for this update: 379.841\n",
            "No Improvement.\n",
            "Epoch   2/20 Batch  320/952 - Loss: 351.773, Seconds: 10.45\n",
            "Epoch   2/20 Batch  325/952 - Loss: 319.151, Seconds: 13.70\n",
            "Epoch   2/20 Batch  330/952 - Loss: 302.962, Seconds: 14.63\n",
            "Epoch   2/20 Batch  335/952 - Loss: 287.969, Seconds: 7.45\n",
            "Epoch   2/20 Batch  340/952 - Loss: 288.497, Seconds: 10.39\n",
            "Epoch   2/20 Batch  345/952 - Loss: 288.373, Seconds: 23.93\n",
            "Epoch   2/20 Batch  350/952 - Loss: 354.182, Seconds: 13.34\n",
            "Epoch   2/20 Batch  355/952 - Loss: 367.730, Seconds: 7.00\n",
            "Epoch   2/20 Batch  360/952 - Loss: 380.837, Seconds: 18.36\n",
            "Epoch   2/20 Batch  365/952 - Loss: 372.141, Seconds: 26.12\n",
            "Epoch   2/20 Batch  370/952 - Loss: 422.194, Seconds: 12.40\n",
            "Epoch   2/20 Batch  375/952 - Loss: 449.136, Seconds: 8.45\n",
            "Epoch   2/20 Batch  380/952 - Loss: 506.338, Seconds: 11.60\n",
            "Epoch   2/20 Batch  385/952 - Loss: 546.306, Seconds: 13.80\n",
            "Epoch   2/20 Batch  390/952 - Loss: 599.047, Seconds: 14.44\n",
            "Epoch   2/20 Batch  395/952 - Loss: 534.794, Seconds: 9.68\n",
            "Epoch   2/20 Batch  400/952 - Loss: 560.731, Seconds: 10.25\n",
            "Epoch   2/20 Batch  405/952 - Loss: 626.348, Seconds: 7.40\n",
            "Epoch   2/20 Batch  410/952 - Loss: 588.318, Seconds: 7.72\n",
            "Epoch   2/20 Batch  415/952 - Loss: 571.417, Seconds: 15.39\n",
            "Epoch   2/20 Batch  420/952 - Loss: 556.336, Seconds: 17.05\n",
            "Epoch   2/20 Batch  425/952 - Loss: 538.887, Seconds: 11.48\n",
            "Epoch   2/20 Batch  430/952 - Loss: 576.308, Seconds: 7.54\n",
            "Epoch   2/20 Batch  435/952 - Loss: 609.447, Seconds: 8.73\n",
            "Epoch   2/20 Batch  440/952 - Loss: 553.791, Seconds: 13.75\n",
            "Epoch   2/20 Batch  445/952 - Loss: 578.215, Seconds: 7.86\n",
            "Epoch   2/20 Batch  450/952 - Loss: 564.396, Seconds: 20.30\n",
            "Epoch   2/20 Batch  455/952 - Loss: 503.673, Seconds: 7.66\n",
            "Epoch   2/20 Batch  460/952 - Loss: 493.524, Seconds: 14.85\n",
            "Epoch   2/20 Batch  465/952 - Loss: 491.027, Seconds: 9.33\n",
            "Epoch   2/20 Batch  470/952 - Loss: 493.145, Seconds: 13.02\n",
            "Epoch   2/20 Batch  475/952 - Loss: 564.993, Seconds: 14.86\n",
            "Epoch   2/20 Batch  480/952 - Loss: 539.446, Seconds: 11.65\n",
            "Epoch   2/20 Batch  485/952 - Loss: 591.477, Seconds: 18.09\n",
            "Epoch   2/20 Batch  490/952 - Loss: 621.023, Seconds: 12.86\n",
            "Epoch   2/20 Batch  495/952 - Loss: 451.121, Seconds: 11.26\n",
            "Epoch   2/20 Batch  500/952 - Loss: 458.875, Seconds: 14.93\n",
            "Epoch   2/20 Batch  505/952 - Loss: 405.229, Seconds: 17.67\n",
            "Epoch   2/20 Batch  510/952 - Loss: 450.594, Seconds: 7.19\n",
            "Epoch   2/20 Batch  515/952 - Loss: 422.246, Seconds: 14.47\n",
            "Epoch   2/20 Batch  520/952 - Loss: 441.887, Seconds: 11.19\n",
            "Epoch   2/20 Batch  525/952 - Loss: 326.012, Seconds: 13.08\n",
            "Epoch   2/20 Batch  530/952 - Loss: 396.388, Seconds: 11.84\n",
            "Epoch   2/20 Batch  535/952 - Loss: 277.488, Seconds: 15.87\n",
            "Epoch   2/20 Batch  540/952 - Loss: 298.148, Seconds: 9.30\n",
            "Epoch   2/20 Batch  545/952 - Loss: 302.025, Seconds: 8.63\n",
            "Epoch   2/20 Batch  550/952 - Loss: 272.223, Seconds: 15.68\n",
            "Epoch   2/20 Batch  555/952 - Loss: 231.112, Seconds: 10.54\n",
            "Epoch   2/20 Batch  560/952 - Loss: 271.669, Seconds: 15.61\n",
            "Epoch   2/20 Batch  565/952 - Loss: 269.225, Seconds: 11.03\n",
            "Epoch   2/20 Batch  570/952 - Loss: 320.835, Seconds: 7.36\n",
            "Epoch   2/20 Batch  575/952 - Loss: 400.568, Seconds: 14.55\n",
            "Epoch   2/20 Batch  580/952 - Loss: 321.533, Seconds: 7.18\n",
            "Epoch   2/20 Batch  585/952 - Loss: 417.827, Seconds: 11.03\n",
            "Epoch   2/20 Batch  590/952 - Loss: 428.211, Seconds: 11.40\n",
            "Epoch   2/20 Batch  595/952 - Loss: 512.175, Seconds: 14.24\n",
            "Epoch   2/20 Batch  600/952 - Loss: 575.151, Seconds: 19.18\n",
            "Epoch   2/20 Batch  605/952 - Loss: 634.751, Seconds: 10.77\n",
            "Epoch   2/20 Batch  610/952 - Loss: 596.896, Seconds: 9.08\n",
            "Epoch   2/20 Batch  615/952 - Loss: 671.943, Seconds: 16.57\n",
            "Epoch   2/20 Batch  620/952 - Loss: 837.967, Seconds: 10.94\n",
            "Epoch   2/20 Batch  625/952 - Loss: 772.316, Seconds: 10.92\n",
            "Epoch   2/20 Batch  630/952 - Loss: 748.819, Seconds: 14.59\n",
            "Average loss for this update: 471.491\n",
            "No Improvement.\n",
            "Epoch   2/20 Batch  635/952 - Loss: 744.684, Seconds: 21.83\n",
            "Epoch   2/20 Batch  640/952 - Loss: 685.076, Seconds: 11.08\n",
            "Epoch   2/20 Batch  645/952 - Loss: 651.168, Seconds: 14.00\n",
            "Epoch   2/20 Batch  650/952 - Loss: 667.811, Seconds: 16.33\n",
            "Epoch   2/20 Batch  655/952 - Loss: 594.017, Seconds: 10.07\n",
            "Epoch   2/20 Batch  660/952 - Loss: 644.400, Seconds: 14.42\n",
            "Epoch   2/20 Batch  665/952 - Loss: 497.082, Seconds: 10.79\n",
            "Epoch   2/20 Batch  670/952 - Loss: 518.943, Seconds: 17.56\n",
            "Epoch   2/20 Batch  675/952 - Loss: 485.455, Seconds: 20.44\n",
            "Epoch   2/20 Batch  680/952 - Loss: 484.451, Seconds: 16.53\n",
            "Epoch   2/20 Batch  685/952 - Loss: 444.242, Seconds: 9.92\n",
            "Epoch   2/20 Batch  690/952 - Loss: 435.463, Seconds: 9.83\n",
            "Epoch   2/20 Batch  695/952 - Loss: 402.035, Seconds: 5.94\n",
            "Epoch   2/20 Batch  700/952 - Loss: 399.194, Seconds: 9.22\n",
            "Epoch   2/20 Batch  705/952 - Loss: 375.069, Seconds: 17.47\n",
            "Epoch   2/20 Batch  710/952 - Loss: 410.919, Seconds: 11.81\n",
            "Epoch   2/20 Batch  715/952 - Loss: 403.487, Seconds: 10.79\n",
            "Epoch   2/20 Batch  720/952 - Loss: 283.665, Seconds: 9.01\n",
            "Epoch   2/20 Batch  725/952 - Loss: 343.815, Seconds: 9.58\n",
            "Epoch   2/20 Batch  730/952 - Loss: 325.432, Seconds: 14.11\n",
            "Epoch   2/20 Batch  735/952 - Loss: 325.525, Seconds: 10.89\n",
            "Epoch   2/20 Batch  740/952 - Loss: 356.364, Seconds: 16.28\n",
            "Epoch   2/20 Batch  745/952 - Loss: 322.963, Seconds: 9.82\n",
            "Epoch   2/20 Batch  750/952 - Loss: 369.835, Seconds: 14.21\n",
            "Epoch   2/20 Batch  755/952 - Loss: 349.346, Seconds: 12.46\n",
            "Epoch   2/20 Batch  760/952 - Loss: 312.652, Seconds: 7.62\n",
            "Epoch   2/20 Batch  765/952 - Loss: 312.302, Seconds: 17.18\n",
            "Epoch   2/20 Batch  770/952 - Loss: 317.089, Seconds: 13.62\n",
            "Epoch   2/20 Batch  775/952 - Loss: 355.328, Seconds: 17.99\n",
            "Epoch   2/20 Batch  780/952 - Loss: 285.318, Seconds: 14.44\n",
            "Epoch   2/20 Batch  785/952 - Loss: 367.785, Seconds: 15.71\n",
            "Epoch   2/20 Batch  790/952 - Loss: 310.972, Seconds: 12.93\n",
            "Epoch   2/20 Batch  795/952 - Loss: 333.891, Seconds: 8.42\n",
            "Epoch   2/20 Batch  800/952 - Loss: 360.579, Seconds: 20.67\n",
            "Epoch   2/20 Batch  805/952 - Loss: 277.712, Seconds: 8.03\n",
            "Epoch   2/20 Batch  810/952 - Loss: 275.199, Seconds: 10.85\n",
            "Epoch   2/20 Batch  815/952 - Loss: 273.314, Seconds: 9.98\n",
            "Epoch   2/20 Batch  820/952 - Loss: 288.806, Seconds: 12.95\n",
            "Epoch   2/20 Batch  825/952 - Loss: 299.242, Seconds: 13.37\n",
            "Epoch   2/20 Batch  830/952 - Loss: 257.559, Seconds: 10.29\n",
            "Epoch   2/20 Batch  835/952 - Loss: 266.232, Seconds: 9.29\n",
            "Epoch   2/20 Batch  840/952 - Loss: 232.356, Seconds: 9.08\n",
            "Epoch   2/20 Batch  845/952 - Loss: 226.673, Seconds: 11.92\n",
            "Epoch   2/20 Batch  850/952 - Loss: 221.155, Seconds: 17.18\n",
            "Epoch   2/20 Batch  855/952 - Loss: 218.541, Seconds: 20.66\n",
            "Epoch   2/20 Batch  860/952 - Loss: 197.897, Seconds: 15.50\n",
            "Epoch   2/20 Batch  865/952 - Loss: 196.667, Seconds: 10.48\n",
            "Epoch   2/20 Batch  870/952 - Loss: 215.270, Seconds: 10.72\n",
            "Epoch   2/20 Batch  875/952 - Loss: 207.864, Seconds: 10.25\n",
            "Epoch   2/20 Batch  880/952 - Loss: 185.912, Seconds: 12.46\n",
            "Epoch   2/20 Batch  885/952 - Loss: 146.381, Seconds: 13.53\n",
            "Epoch   2/20 Batch  890/952 - Loss: 184.619, Seconds: 14.59\n",
            "Epoch   2/20 Batch  895/952 - Loss: 178.332, Seconds: 20.98\n",
            "Epoch   2/20 Batch  900/952 - Loss: 184.796, Seconds: 10.78\n",
            "Epoch   2/20 Batch  905/952 - Loss: 242.637, Seconds: 9.53\n",
            "Epoch   2/20 Batch  910/952 - Loss: 369.562, Seconds: 12.64\n",
            "Epoch   2/20 Batch  915/952 - Loss: 492.328, Seconds: 11.89\n",
            "Epoch   2/20 Batch  920/952 - Loss: 453.946, Seconds: 16.66\n",
            "Epoch   2/20 Batch  925/952 - Loss: 485.206, Seconds: 19.79\n",
            "Epoch   2/20 Batch  930/952 - Loss: 492.135, Seconds: 10.28\n",
            "Epoch   2/20 Batch  935/952 - Loss: 543.615, Seconds: 11.88\n",
            "Epoch   2/20 Batch  940/952 - Loss: 656.208, Seconds: 20.28\n",
            "Epoch   2/20 Batch  945/952 - Loss: 604.257, Seconds: 14.67\n",
            "Average loss for this update: 369.733\n",
            "No Improvement.\n",
            "Epoch   2/20 Batch  950/952 - Loss: 614.237, Seconds: 15.11\n",
            "Epoch   3/20 Batch    5/952 - Loss: 730.483, Seconds: 12.92\n",
            "Epoch   3/20 Batch   10/952 - Loss: 699.611, Seconds: 8.10\n",
            "Epoch   3/20 Batch   15/952 - Loss: 597.012, Seconds: 9.84\n",
            "Epoch   3/20 Batch   20/952 - Loss: 599.102, Seconds: 10.34\n",
            "Epoch   3/20 Batch   25/952 - Loss: 513.579, Seconds: 9.41\n",
            "Epoch   3/20 Batch   30/952 - Loss: 568.063, Seconds: 14.45\n",
            "Epoch   3/20 Batch   35/952 - Loss: 566.000, Seconds: 19.56\n",
            "Epoch   3/20 Batch   40/952 - Loss: 490.715, Seconds: 11.19\n",
            "Epoch   3/20 Batch   45/952 - Loss: 505.451, Seconds: 10.63\n",
            "Epoch   3/20 Batch   50/952 - Loss: 441.937, Seconds: 8.08\n",
            "Epoch   3/20 Batch   55/952 - Loss: 456.800, Seconds: 8.37\n",
            "Epoch   3/20 Batch   60/952 - Loss: 427.361, Seconds: 17.80\n",
            "Epoch   3/20 Batch   65/952 - Loss: 397.787, Seconds: 10.33\n",
            "Epoch   3/20 Batch   70/952 - Loss: 439.457, Seconds: 18.00\n",
            "Epoch   3/20 Batch   75/952 - Loss: 465.005, Seconds: 16.17\n",
            "Epoch   3/20 Batch   80/952 - Loss: 453.605, Seconds: 12.61\n",
            "Epoch   3/20 Batch   85/952 - Loss: 411.593, Seconds: 9.59\n",
            "Epoch   3/20 Batch   90/952 - Loss: 424.824, Seconds: 11.18\n",
            "Epoch   3/20 Batch   95/952 - Loss: 443.541, Seconds: 9.83\n",
            "Epoch   3/20 Batch  100/952 - Loss: 397.258, Seconds: 8.04\n",
            "Epoch   3/20 Batch  105/952 - Loss: 444.328, Seconds: 13.02\n",
            "Epoch   3/20 Batch  110/952 - Loss: 416.625, Seconds: 18.89\n",
            "Epoch   3/20 Batch  115/952 - Loss: 464.092, Seconds: 10.63\n",
            "Epoch   3/20 Batch  120/952 - Loss: 534.751, Seconds: 27.52\n",
            "Epoch   3/20 Batch  125/952 - Loss: 461.738, Seconds: 11.46\n",
            "Epoch   3/20 Batch  130/952 - Loss: 433.351, Seconds: 7.26\n",
            "Epoch   3/20 Batch  135/952 - Loss: 448.938, Seconds: 23.61\n",
            "Epoch   3/20 Batch  140/952 - Loss: 399.220, Seconds: 28.05\n",
            "Epoch   3/20 Batch  145/952 - Loss: 444.371, Seconds: 6.97\n",
            "Epoch   3/20 Batch  150/952 - Loss: 389.526, Seconds: 12.57\n",
            "Epoch   3/20 Batch  155/952 - Loss: 400.040, Seconds: 12.94\n",
            "Epoch   3/20 Batch  160/952 - Loss: 392.161, Seconds: 16.45\n",
            "Epoch   3/20 Batch  165/952 - Loss: 363.710, Seconds: 14.46\n",
            "Epoch   3/20 Batch  170/952 - Loss: 360.089, Seconds: 14.40\n",
            "Epoch   3/20 Batch  175/952 - Loss: 303.719, Seconds: 18.24\n",
            "Epoch   3/20 Batch  180/952 - Loss: 340.583, Seconds: 6.94\n",
            "Epoch   3/20 Batch  185/952 - Loss: 299.380, Seconds: 13.12\n",
            "Epoch   3/20 Batch  190/952 - Loss: 298.695, Seconds: 9.19\n",
            "Epoch   3/20 Batch  195/952 - Loss: 259.917, Seconds: 12.43\n",
            "Epoch   3/20 Batch  200/952 - Loss: 279.648, Seconds: 12.17\n",
            "Epoch   3/20 Batch  205/952 - Loss: 256.791, Seconds: 11.76\n",
            "Epoch   3/20 Batch  210/952 - Loss: 256.845, Seconds: 12.68\n",
            "Epoch   3/20 Batch  215/952 - Loss: 251.010, Seconds: 14.66\n",
            "Epoch   3/20 Batch  220/952 - Loss: 323.398, Seconds: 9.66\n",
            "Epoch   3/20 Batch  225/952 - Loss: 292.676, Seconds: 16.26\n",
            "Epoch   3/20 Batch  230/952 - Loss: 274.801, Seconds: 10.45\n",
            "Epoch   3/20 Batch  235/952 - Loss: 240.939, Seconds: 16.09\n",
            "Epoch   3/20 Batch  240/952 - Loss: 264.707, Seconds: 10.24\n",
            "Epoch   3/20 Batch  245/952 - Loss: 296.343, Seconds: 14.13\n",
            "Epoch   3/20 Batch  250/952 - Loss: 288.464, Seconds: 8.73\n",
            "Epoch   3/20 Batch  255/952 - Loss: 288.636, Seconds: 14.44\n",
            "Epoch   3/20 Batch  260/952 - Loss: 316.317, Seconds: 12.81\n",
            "Epoch   3/20 Batch  265/952 - Loss: 353.876, Seconds: 11.88\n",
            "Epoch   3/20 Batch  270/952 - Loss: 367.694, Seconds: 5.93\n",
            "Epoch   3/20 Batch  275/952 - Loss: 363.223, Seconds: 10.65\n",
            "Epoch   3/20 Batch  280/952 - Loss: 354.186, Seconds: 12.84\n",
            "Epoch   3/20 Batch  285/952 - Loss: 372.200, Seconds: 14.61\n",
            "Epoch   3/20 Batch  290/952 - Loss: 352.843, Seconds: 17.19\n",
            "Epoch   3/20 Batch  295/952 - Loss: 415.992, Seconds: 10.96\n",
            "Epoch   3/20 Batch  300/952 - Loss: 391.297, Seconds: 10.37\n",
            "Epoch   3/20 Batch  305/952 - Loss: 400.727, Seconds: 9.90\n",
            "Epoch   3/20 Batch  310/952 - Loss: 430.284, Seconds: 11.31\n",
            "Epoch   3/20 Batch  315/952 - Loss: 364.208, Seconds: 12.08\n",
            "Average loss for this update: 401.463\n",
            "No Improvement.\n",
            "Stopping Training.\n"
          ],
          "name": "stdout"
        }
      ]
    },
    {
      "cell_type": "code",
      "metadata": {
        "colab_type": "code",
        "id": "S_4rooXoU3lP",
        "colab": {}
      },
      "source": [
        "checkpoint = \"best_model.ckpt\" \n",
        "\n",
        "loaded_graph = tf.Graph()\n",
        "with tf.Session(graph=loaded_graph) as sess:\n",
        "    # Load saved model\n",
        "    loader = tf.train.import_meta_graph(checkpoint + '.meta')\n",
        "    loader.restore(sess, checkpoint)\n",
        "    names = []\n",
        "    [names.append(n.name) for n in loaded_graph.as_graph_def().node]\n",
        "names"
      ],
      "execution_count": null,
      "outputs": []
    },
    {
      "cell_type": "markdown",
      "metadata": {
        "colab_type": "text",
        "id": "qLTgl3MT6ml8"
      },
      "source": [
        "## Making Our Own Summaries"
      ]
    },
    {
      "cell_type": "markdown",
      "metadata": {
        "colab_type": "text",
        "id": "ycJAqueX6ml9"
      },
      "source": [
        "To see the quality of the summaries that this model can generate, you can either create your own review, or use a review from the dataset. You can set the length of the summary to a fixed value, or use a random value like I have here."
      ]
    },
    {
      "cell_type": "code",
      "metadata": {
        "colab_type": "code",
        "id": "gJsdh6eG6ml-",
        "colab": {}
      },
      "source": [
        "def text_to_seq(text):\n",
        "    '''Prepare the text for the model'''\n",
        "    \n",
        "    text = clean_text(text)\n",
        "    return [vocab_to_int.get(word, vocab_to_int['<UNK>']) for word in text.split()]"
      ],
      "execution_count": null,
      "outputs": []
    },
    {
      "cell_type": "code",
      "metadata": {
        "colab_type": "code",
        "id": "m2Pbp2Cu6mmE",
        "colab": {}
      },
      "source": [
        "# Create your own review or use one from the dataset\n",
        "#input_sentence = \"I have never eaten an apple before, but this red one was nice. \\\n",
        "                  #I think that I will try a green apple next time.\"\n",
        "#text = text_to_seq(input_sentence)\n",
        "random = np.random.randint(0,len(clean_texts))\n",
        "input_sentence = clean_texts[random]\n",
        "text = text_to_seq(clean_texts[random])\n",
        "\n",
        "checkpoint = \"best_model.ckpt\"\n",
        "\n",
        "loaded_graph = tf.Graph()\n",
        "with tf.Session(graph=loaded_graph) as sess:\n",
        "    # Load saved model\n",
        "    loader = tf.train.import_meta_graph(checkpoint + '.meta')\n",
        "    loader.restore(sess, checkpoint)\n",
        "\n",
        "    input_data = loaded_graph.get_tensor_by_name('input:0')\n",
        "    logits = loaded_graph.get_tensor_by_name('predictions:0')\n",
        "    text_length = loaded_graph.get_tensor_by_name('text_length:0')\n",
        "    summary_length = loaded_graph.get_tensor_by_name('summary_length:0')\n",
        "    keep_prob = loaded_graph.get_tensor_by_name('keep_prob:0')\n",
        "    \n",
        "    #Multiply by batch_size to match the model's input parameters\n",
        "    answer_logits = sess.run(logits, {input_data: [text]*batch_size, \n",
        "                                      summary_length: [np.random.randint(5,8)], \n",
        "                                      text_length: [len(text)]*batch_size,\n",
        "                                      keep_prob: 1.0})[0] \n",
        "\n",
        "# Remove the padding from the tweet\n",
        "pad = vocab_to_int[\"<PAD>\"] \n",
        "\n",
        "#print('Original Text:', df.articlebody[random])\n",
        "print(\"==============================================================\")\n",
        "#print('Original summary:', df.synopsis[random])#clean_summaries[random]\n",
        "\n",
        "print('\\nText')\n",
        "print('  Word Ids:    {}'.format([i for i in text]))\n",
        "print('  Input Words: {}'.format(\" \".join([int_to_vocab[i] for i in text])))\n",
        "print(\"==============================================================\")\n",
        "print(\"==============================================================\")\n",
        "\n",
        "print('\\nSummary')\n",
        "print('  Word Ids:       {}'.format([i for i in answer_logits if i != pad]))\n",
        "print('  Response Words: {}'.format(\" \".join([int_to_vocab[i] for i in answer_logits if i != pad])))"
      ],
      "execution_count": null,
      "outputs": []
    },
    {
      "cell_type": "code",
      "metadata": {
        "id": "pyiEjlShmtIp",
        "colab_type": "code",
        "colab": {}
      },
      "source": [
        ""
      ],
      "execution_count": null,
      "outputs": []
    },
    {
      "cell_type": "markdown",
      "metadata": {
        "colab_type": "text",
        "id": "Xko7rtfk8TOR"
      },
      "source": [
        "## Bleu Test"
      ]
    },
    {
      "cell_type": "code",
      "metadata": {
        "colab_type": "code",
        "id": "IhAIbFJQ8i7x",
        "colab": {}
      },
      "source": [
        "from nltk.translate.bleu_score import sentence_bleu\n",
        "reference = [['So', 'easy', 'so', 'good','and','all','natural']]\n",
        "candidate = ['great', 'hot', 'snack']\n",
        "score = sentence_bleu(reference, candidate)\n",
        "print(score)"
      ],
      "execution_count": null,
      "outputs": []
    },
    {
      "cell_type": "code",
      "metadata": {
        "colab_type": "code",
        "id": "6p_CRprLBo2d",
        "colab": {}
      },
      "source": [
        "!pip install sumeval\n",
        "!python -m spacy download en"
      ],
      "execution_count": null,
      "outputs": []
    },
    {
      "cell_type": "code",
      "metadata": {
        "colab_type": "code",
        "id": "7jmnDRhhBzRL",
        "colab": {}
      },
      "source": [
        "#https://github.com/chakki-works/sumeval\n",
        "#https://github.com/Tian312/awesome-text-summarization\n",
        "\n",
        "from sumeval.metrics.rouge import RougeCalculator\n",
        "\n",
        "refrence_summary = \"So easy, so good and all natural\"\n",
        "model_summary = \"great hot snack\"\n",
        "\n",
        "rouge = RougeCalculator(stopwords=True, lang=\"en\")\n",
        "\n",
        "rouge_1 = rouge.rouge_n(\n",
        "            summary=model_summary,\n",
        "            references=refrence_summary,\n",
        "            n=1)\n",
        "\n",
        "rouge_2 = rouge.rouge_n(\n",
        "            summary=model_summary,\n",
        "            references=[refrence_summary],\n",
        "            n=2)\n",
        "\n",
        "rouge_l = rouge.rouge_l(\n",
        "            summary=model_summary,\n",
        "            references=[refrence_summary])\n",
        "\n",
        "# You need spaCy to calculate ROUGE-BE\n",
        "\n",
        "rouge_be = rouge.rouge_be(\n",
        "            summary=model_summary,\n",
        "            references=[refrence_summary])\n",
        "\n",
        "print(\"ROUGE-1: {}, ROUGE-2: {}, ROUGE-L: {}, ROUGE-BE: {}\".format(\n",
        "    rouge_1, rouge_2, rouge_l, rouge_be\n",
        ").replace(\", \", \"\\n\"))"
      ],
      "execution_count": null,
      "outputs": []
    },
    {
      "cell_type": "code",
      "metadata": {
        "colab_type": "code",
        "id": "5JMgn0CeKDVD",
        "colab": {}
      },
      "source": [
        "from sklearn.metrics.pairwise import cosine_similarity\n",
        "from sklearn.feature_extraction.text import TfidfVectorizer\n",
        "\n",
        "tfidf_vectorizer = TfidfVectorizer()\n",
        "\n",
        "sentence = (\"\"\"My little Chihuahua and Jack Russell mix just loves these! She \n",
        "gobbles them up! They are a perfect\n",
        "size for her small mouth. According\n",
        "to her, they are very tasty.\"\"\",\"\")\n",
        "model = (\"My Dog Loves Them!\",\"\")\n",
        "summary = (\"Chihuahua mix perfect\",\"\")\n",
        "\n",
        "tfidf_matrix_sentence = tfidf_vectorizer.fit_transform(sentence) \n",
        "tfidf_matrix_model = tfidf_vectorizer.transform(model) \n",
        "tfidf_matrix_summary = tfidf_vectorizer.transform(summary) \n",
        "\n",
        "\n",
        "cosine = cosine_similarity(tfidf_matrix_sentence, tfidf_matrix_model)\n",
        "print(cosine)\n",
        "\n",
        "cosine = cosine_similarity(tfidf_matrix_sentence, tfidf_matrix_summary)\n",
        "print(cosine)\n"
      ],
      "execution_count": null,
      "outputs": []
    }
  ]
}